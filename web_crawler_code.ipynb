{
  "nbformat": 4,
  "nbformat_minor": 0,
  "metadata": {
    "colab": {
      "provenance": []
    },
    "kernelspec": {
      "name": "python3",
      "display_name": "Python 3"
    },
    "language_info": {
      "name": "python"
    }
  },
  "cells": [
    {
      "cell_type": "code",
      "source": [
        "!pip3 install scrapy"
      ],
      "metadata": {
        "colab": {
          "base_uri": "https://localhost:8080/"
        },
        "id": "VAh43hEwutDC",
        "outputId": "8d38c008-24a6-4227-ec5a-77a56df15980"
      },
      "execution_count": null,
      "outputs": [
        {
          "output_type": "stream",
          "name": "stdout",
          "text": [
            "Looking in indexes: https://pypi.org/simple, https://us-python.pkg.dev/colab-wheels/public/simple/\n",
            "Requirement already satisfied: scrapy in /usr/local/lib/python3.7/dist-packages (2.6.1)\n",
            "Requirement already satisfied: setuptools in /usr/local/lib/python3.7/dist-packages (from scrapy) (57.4.0)\n",
            "Requirement already satisfied: itemadapter>=0.1.0 in /usr/local/lib/python3.7/dist-packages (from scrapy) (0.6.0)\n",
            "Requirement already satisfied: zope.interface>=4.1.3 in /usr/local/lib/python3.7/dist-packages (from scrapy) (5.4.0)\n",
            "Requirement already satisfied: cssselect>=0.9.1 in /usr/local/lib/python3.7/dist-packages (from scrapy) (1.1.0)\n",
            "Requirement already satisfied: itemloaders>=1.0.1 in /usr/local/lib/python3.7/dist-packages (from scrapy) (1.0.4)\n",
            "Requirement already satisfied: queuelib>=1.4.2 in /usr/local/lib/python3.7/dist-packages (from scrapy) (1.6.2)\n",
            "Requirement already satisfied: parsel>=1.5.0 in /usr/local/lib/python3.7/dist-packages (from scrapy) (1.6.0)\n",
            "Requirement already satisfied: w3lib>=1.17.0 in /usr/local/lib/python3.7/dist-packages (from scrapy) (1.22.0)\n",
            "Requirement already satisfied: lxml>=3.5.0 in /usr/local/lib/python3.7/dist-packages (from scrapy) (4.2.6)\n",
            "Requirement already satisfied: Twisted>=17.9.0 in /usr/local/lib/python3.7/dist-packages (from scrapy) (22.4.0)\n",
            "Requirement already satisfied: protego>=0.1.15 in /usr/local/lib/python3.7/dist-packages (from scrapy) (0.2.1)\n",
            "Requirement already satisfied: pyOpenSSL>=16.2.0 in /usr/local/lib/python3.7/dist-packages (from scrapy) (22.0.0)\n",
            "Requirement already satisfied: tldextract in /usr/local/lib/python3.7/dist-packages (from scrapy) (3.3.0)\n",
            "Requirement already satisfied: PyDispatcher>=2.0.5 in /usr/local/lib/python3.7/dist-packages (from scrapy) (2.0.5)\n",
            "Requirement already satisfied: service-identity>=16.0.0 in /usr/local/lib/python3.7/dist-packages (from scrapy) (21.1.0)\n",
            "Requirement already satisfied: cryptography>=2.0 in /usr/local/lib/python3.7/dist-packages (from scrapy) (37.0.2)\n",
            "Requirement already satisfied: cffi>=1.12 in /usr/local/lib/python3.7/dist-packages (from cryptography>=2.0->scrapy) (1.15.0)\n",
            "Requirement already satisfied: pycparser in /usr/local/lib/python3.7/dist-packages (from cffi>=1.12->cryptography>=2.0->scrapy) (2.21)\n",
            "Requirement already satisfied: jmespath>=0.9.5 in /usr/local/lib/python3.7/dist-packages (from itemloaders>=1.0.1->scrapy) (1.0.0)\n",
            "Requirement already satisfied: six>=1.6.0 in /usr/local/lib/python3.7/dist-packages (from parsel>=1.5.0->scrapy) (1.15.0)\n",
            "Requirement already satisfied: pyasn1 in /usr/local/lib/python3.7/dist-packages (from service-identity>=16.0.0->scrapy) (0.4.8)\n",
            "Requirement already satisfied: pyasn1-modules in /usr/local/lib/python3.7/dist-packages (from service-identity>=16.0.0->scrapy) (0.2.8)\n",
            "Requirement already satisfied: attrs>=19.1.0 in /usr/local/lib/python3.7/dist-packages (from service-identity>=16.0.0->scrapy) (21.4.0)\n",
            "Requirement already satisfied: hyperlink>=17.1.1 in /usr/local/lib/python3.7/dist-packages (from Twisted>=17.9.0->scrapy) (21.0.0)\n",
            "Requirement already satisfied: typing-extensions>=3.6.5 in /usr/local/lib/python3.7/dist-packages (from Twisted>=17.9.0->scrapy) (4.2.0)\n",
            "Requirement already satisfied: Automat>=0.8.0 in /usr/local/lib/python3.7/dist-packages (from Twisted>=17.9.0->scrapy) (20.2.0)\n",
            "Requirement already satisfied: incremental>=21.3.0 in /usr/local/lib/python3.7/dist-packages (from Twisted>=17.9.0->scrapy) (21.3.0)\n",
            "Requirement already satisfied: constantly>=15.1 in /usr/local/lib/python3.7/dist-packages (from Twisted>=17.9.0->scrapy) (15.1.0)\n",
            "Requirement already satisfied: idna>=2.5 in /usr/local/lib/python3.7/dist-packages (from hyperlink>=17.1.1->Twisted>=17.9.0->scrapy) (2.10)\n",
            "Requirement already satisfied: filelock>=3.0.8 in /usr/local/lib/python3.7/dist-packages (from tldextract->scrapy) (3.7.0)\n",
            "Requirement already satisfied: requests>=2.1.0 in /usr/local/lib/python3.7/dist-packages (from tldextract->scrapy) (2.23.0)\n",
            "Requirement already satisfied: requests-file>=1.4 in /usr/local/lib/python3.7/dist-packages (from tldextract->scrapy) (1.5.1)\n",
            "Requirement already satisfied: chardet<4,>=3.0.2 in /usr/local/lib/python3.7/dist-packages (from requests>=2.1.0->tldextract->scrapy) (3.0.4)\n",
            "Requirement already satisfied: certifi>=2017.4.17 in /usr/local/lib/python3.7/dist-packages (from requests>=2.1.0->tldextract->scrapy) (2022.5.18.1)\n",
            "Requirement already satisfied: urllib3!=1.25.0,!=1.25.1,<1.26,>=1.21.1 in /usr/local/lib/python3.7/dist-packages (from requests>=2.1.0->tldextract->scrapy) (1.24.3)\n"
          ]
        }
      ]
    },
    {
      "cell_type": "code",
      "source": [
        "rawData = list() #format [[url,name,ingredients]]"
      ],
      "metadata": {
        "id": "96mxquvSwqf-"
      },
      "execution_count": null,
      "outputs": []
    },
    {
      "cell_type": "code",
      "execution_count": null,
      "metadata": {
        "id": "p45GjBmUuhj-"
      },
      "outputs": [],
      "source": [
        "import scrapy\n",
        "from twisted.internet import reactor\n",
        "from scrapy.crawler import CrawlerRunner\n",
        "from scrapy.utils.log import configure_logging\n",
        "from scrapy.utils.project import get_project_settings\n",
        "\n",
        "class RecipeSpider(scrapy.Spider):\n",
        " name = \"recipe_spider\"\n",
        " base_link = \"https://recipes.timesofindia.com/recipes/veg-dinners/61361358\"\n",
        " start_urls = [base_link, base_link+\"?curpg=2\",base_link+\"?curpg=3\", base_link+\"?curpg=4\"] #crawl 4 pages of the webpage\n",
        " #recipes = dict()\n",
        " def parse(self, response):\n",
        "    ''' extract hyperlinks from the webpage containing the word recipe '''\n",
        "\n",
        "    links = response.xpath('//a[contains(@href, \"recipes/\")]/@href').getall()\n",
        "    links_new = [string for string in links if \".cms\" in string] #filter links to extract actual recipe pages from other links\n",
        "    print(\"Filtered links: \", links_new)\n",
        "    #print(\"Data type of link\", type(links))\n",
        "    for link in links_new:\n",
        "      yield response.follow(link, callback=self.parseRecipe)\n",
        "\n",
        " def parseRecipe(self, response):\n",
        "    recipeName = response.css(\".nheadingrs::text\").get()\n",
        "    recipeName = recipeName[:-7] # Remove the word 'Recipe' from Recipe Name\n",
        "    #print(\"RecipeName = \", recipeName)\n",
        "    ingredients = response.css(\"li::attr(displayname)\").getall()\n",
        "    #print(\"Ingredients = \", ingredients) \n",
        "    link = response.request.url #current webpage link\n",
        "    #print(\"Url:\", link)\n",
        "    ### rawData list format [[url,name,ingredients]]\n",
        "    rawData.append([link,recipeName, ingredients])\n",
        "\n",
        "\n",
        "\n"
      ]
    },
    {
      "cell_type": "code",
      "source": [
        "\"\"\"run spider with Recipe Spider\"\"\"\n",
        "configure_logging()\n",
        "settings = get_project_settings() # settings not required if running\n",
        "runner = CrawlerRunner(settings)  # from script, defaults provided\n",
        "#re_spi = RecipeSpider()\n",
        "output1 = runner.crawl(RecipeSpider) \n",
        "d = runner.join()\n",
        "d.addBoth(lambda _: reactor.stop())\n",
        "output2 = reactor.run()\n"
      ],
      "metadata": {
        "colab": {
          "base_uri": "https://localhost:8080/"
        },
        "id": "zrwGXdt6upP8",
        "outputId": "da68313c-1302-4c84-f63d-84f006bf21ce"
      },
      "execution_count": null,
      "outputs": [
        {
          "output_type": "stream",
          "name": "stderr",
          "text": [
            "2022-05-25 06:48:55 [scrapy.crawler] INFO: Overridden settings:\n",
            "{}\n",
            "2022-05-25 06:48:55 [scrapy.extensions.telnet] INFO: Telnet Password: 2b217f11d8d0b963\n",
            "2022-05-25 06:48:55 [scrapy.middleware] INFO: Enabled extensions:\n",
            "['scrapy.extensions.corestats.CoreStats',\n",
            " 'scrapy.extensions.telnet.TelnetConsole',\n",
            " 'scrapy.extensions.memusage.MemoryUsage',\n",
            " 'scrapy.extensions.logstats.LogStats']\n",
            "2022-05-25 06:48:55 [scrapy.middleware] INFO: Enabled downloader middlewares:\n",
            "['scrapy.downloadermiddlewares.httpauth.HttpAuthMiddleware',\n",
            " 'scrapy.downloadermiddlewares.downloadtimeout.DownloadTimeoutMiddleware',\n",
            " 'scrapy.downloadermiddlewares.defaultheaders.DefaultHeadersMiddleware',\n",
            " 'scrapy.downloadermiddlewares.useragent.UserAgentMiddleware',\n",
            " 'scrapy.downloadermiddlewares.retry.RetryMiddleware',\n",
            " 'scrapy.downloadermiddlewares.redirect.MetaRefreshMiddleware',\n",
            " 'scrapy.downloadermiddlewares.httpcompression.HttpCompressionMiddleware',\n",
            " 'scrapy.downloadermiddlewares.redirect.RedirectMiddleware',\n",
            " 'scrapy.downloadermiddlewares.cookies.CookiesMiddleware',\n",
            " 'scrapy.downloadermiddlewares.httpproxy.HttpProxyMiddleware',\n",
            " 'scrapy.downloadermiddlewares.stats.DownloaderStats']\n",
            "2022-05-25 06:48:55 [scrapy.middleware] INFO: Enabled spider middlewares:\n",
            "['scrapy.spidermiddlewares.httperror.HttpErrorMiddleware',\n",
            " 'scrapy.spidermiddlewares.offsite.OffsiteMiddleware',\n",
            " 'scrapy.spidermiddlewares.referer.RefererMiddleware',\n",
            " 'scrapy.spidermiddlewares.urllength.UrlLengthMiddleware',\n",
            " 'scrapy.spidermiddlewares.depth.DepthMiddleware']\n",
            "2022-05-25 06:48:55 [scrapy.middleware] INFO: Enabled item pipelines:\n",
            "[]\n",
            "2022-05-25 06:48:55 [scrapy.core.engine] INFO: Spider opened\n",
            "2022-05-25 06:48:55 [scrapy.extensions.logstats] INFO: Crawled 0 pages (at 0 pages/min), scraped 0 items (at 0 items/min)\n",
            "2022-05-25 06:48:55 [scrapy.extensions.telnet] INFO: Telnet console listening on 127.0.0.1:6023\n",
            "2022-05-25 06:48:55 [scrapy.downloadermiddlewares.redirect] DEBUG: Redirecting (301) to <GET https://recipes.timesofindia.com/us/recipes/veg-dinners/61361358?curpg=2> from <GET https://recipes.timesofindia.com/recipes/veg-dinners/61361358?curpg=2>\n",
            "2022-05-25 06:48:55 [scrapy.downloadermiddlewares.redirect] DEBUG: Redirecting (301) to <GET https://recipes.timesofindia.com/us/recipes/veg-dinners/61361358?curpg=4> from <GET https://recipes.timesofindia.com/recipes/veg-dinners/61361358?curpg=4>\n",
            "2022-05-25 06:48:56 [scrapy.downloadermiddlewares.redirect] DEBUG: Redirecting (301) to <GET https://recipes.timesofindia.com/us/recipes/veg-dinners/61361358?curpg=3> from <GET https://recipes.timesofindia.com/recipes/veg-dinners/61361358?curpg=3>\n",
            "2022-05-25 06:48:56 [scrapy.downloadermiddlewares.redirect] DEBUG: Redirecting (301) to <GET https://recipes.timesofindia.com/us/recipes/veg-dinners/61361358> from <GET https://recipes.timesofindia.com/recipes/veg-dinners/61361358>\n",
            "2022-05-25 06:48:57 [scrapy.core.engine] DEBUG: Crawled (200) <GET https://recipes.timesofindia.com/us/recipes/veg-dinners/61361358?curpg=2> (referer: None)\n",
            "2022-05-25 06:48:57 [scrapy.dupefilters] DEBUG: Filtered duplicate request: <GET https://recipes.timesofindia.com/us/recipes/roasted-vegetables/rs83144652.cms> - no more duplicates will be shown (see DUPEFILTER_DEBUG to show all duplicates)\n"
          ]
        },
        {
          "output_type": "stream",
          "name": "stdout",
          "text": [
            "Filtered links:  ['https://recipes.timesofindia.com/us/recipes/desserts/listing/67640354.cms', 'https://recipes.timesofindia.com/us/recipes/diet-plans/listing/67640377.cms', 'https://recipes.timesofindia.com/us/recipes/roasted-vegetables/rs83144652.cms', 'https://recipes.timesofindia.com/us/recipes/roasted-vegetables/rs83144652.cms', 'https://recipes.timesofindia.com/us/recipes/asparagus-green-bean-and-baby-tomato-salad/rs83143853.cms', 'https://recipes.timesofindia.com/us/recipes/asparagus-green-bean-and-baby-tomato-salad/rs83143853.cms', 'https://recipes.timesofindia.com/us/recipes/banarasi-halwa/rs83114150.cms', 'https://recipes.timesofindia.com/us/recipes/banarasi-halwa/rs83114150.cms', 'https://recipes.timesofindia.com/us/recipes/pink-sauce-pasta/rs83107712.cms', 'https://recipes.timesofindia.com/us/recipes/pink-sauce-pasta/rs83107712.cms', 'https://recipes.timesofindia.com/us/recipes/veg-fried-rice/rs83107439.cms', 'https://recipes.timesofindia.com/us/recipes/veg-fried-rice/rs83107439.cms', 'https://recipes.timesofindia.com/us/recipes/cherry-tomato-couscous-salad/rs83027806.cms', 'https://recipes.timesofindia.com/us/recipes/cherry-tomato-couscous-salad/rs83027806.cms', 'https://recipes.timesofindia.com/us/recipes/mint-raita/rs83005406.cms', 'https://recipes.timesofindia.com/us/recipes/mint-raita/rs83005406.cms', 'https://recipes.timesofindia.com/us/recipes/bibimbap/rs82973328.cms', 'https://recipes.timesofindia.com/us/recipes/bibimbap/rs82973328.cms', 'https://recipes.timesofindia.com/us/recipes/mango-spinach-salad/rs82684036.cms', 'https://recipes.timesofindia.com/us/recipes/mango-spinach-salad/rs82684036.cms', 'https://recipes.timesofindia.com/us/recipes/kale-and-strawberry-salad/rs82683113.cms', 'https://recipes.timesofindia.com/us/recipes/kale-and-strawberry-salad/rs82683113.cms', 'https://recipes.timesofindia.com/us/recipes/stuffed-jowar-cheela/rs82627266.cms', 'https://recipes.timesofindia.com/us/recipes/stuffed-jowar-cheela/rs82627266.cms', 'https://recipes.timesofindia.com/us/recipes/moong-sprout-kebab/rs82365450.cms', 'https://recipes.timesofindia.com/us/recipes/moong-sprout-kebab/rs82365450.cms', 'https://recipes.timesofindia.com/us/recipes/thai-noodles-tofu-bowl/rs82143704.cms', 'https://recipes.timesofindia.com/us/recipes/thai-noodles-tofu-bowl/rs82143704.cms', 'https://recipes.timesofindia.com/us/recipes/steamed-bao-buns/rs82113916.cms', 'https://recipes.timesofindia.com/us/recipes/steamed-bao-buns/rs82113916.cms', 'https://recipes.timesofindia.com/us/recipes/chapati-sandwich/rs81773072.cms', 'https://recipes.timesofindia.com/us/recipes/chapati-sandwich/rs81773072.cms', 'https://recipes.timesofindia.com/us/recipes/vegetable-chapati-noodles/rs81601456.cms', 'https://recipes.timesofindia.com/us/recipes/vegetable-chapati-noodles/rs81601456.cms', 'https://recipes.timesofindia.com/us/recipes/asian-glazed-potatoes/rs81567370.cms', 'https://recipes.timesofindia.com/us/recipes/asian-glazed-potatoes/rs81567370.cms', 'https://recipes.timesofindia.com/us/recipes/vegetable-dalia/rs81526753.cms', 'https://recipes.timesofindia.com/us/recipes/vegetable-dalia/rs81526753.cms', 'https://recipes.timesofindia.com/us/recipes/chora-nu-shaak/rs81514476.cms', 'https://recipes.timesofindia.com/us/recipes/chora-nu-shaak/rs81514476.cms', 'https://recipes.timesofindia.com/us/recipes/soya-chunks-masala/rs81506822.cms', 'https://recipes.timesofindia.com/us/recipes/soya-chunks-masala/rs81506822.cms', 'https://recipes.timesofindia.com/us/recipes/baked-feta-cheese-and-tomato-pasta/rs81444908.cms', 'https://recipes.timesofindia.com/us/recipes/baked-feta-cheese-and-tomato-pasta/rs81444908.cms', 'https://recipes.timesofindia.com/us/recipes/muradabadi-chicken-biryani/rs69038542.cms', 'https://recipes.timesofindia.com/us/recipes/keema/rs53991547.cms', 'https://recipes.timesofindia.com/us/recipes/gobhi-paratha/rs53335308.cms', 'https://recipes.timesofindia.com/us/recipes/mediterranean-greek-salad/rs58895943.cms', 'https://recipes.timesofindia.com/us/recipes/kadhai-chicken/rs53523514.cms', 'https://recipes.timesofindia.com/us/recipes/aloo-paratha/rs53109843.cms', 'https://recipes.timesofindia.com/us/recipes/puran-poli/rs55045560.cms', 'https://recipes.timesofindia.com/us/recipes/palak-paneer/rs53093667.cms', 'https://recipes.timesofindia.com/us/recipes/rasgulla/rs52743612.cms', 'https://recipes.timesofindia.com/us/recipes/khichdi/rs74297416.cms', 'https://recipes.timesofindia.com/us/recipes/gulab-jamun/rs63799510.cms', 'https://recipes.timesofindia.com/us/recipes/samosa/rs61050397.cms', 'https://recipes.timesofindia.com/us/recipes/lemon-rice/rs53870704.cms', 'https://recipes.timesofindia.com/us/recipes/upma/rs53111410.cms', 'https://recipes.timesofindia.com/us/recipes/vegetable-biryani-by-pankaj-bhadouria/rs53098310.cms', 'https://recipes.timesofindia.com/us/recipes/chicken-65/rs53683545.cms', 'https://recipes.timesofindia.com/us/recipes/sooji-halwa/rs64290285.cms', 'https://recipes.timesofindia.com/us/recipes/chicken-manchurian/rs53241077.cms']\n"
          ]
        },
        {
          "output_type": "stream",
          "name": "stderr",
          "text": [
            "2022-05-25 06:48:57 [scrapy.core.engine] DEBUG: Crawled (200) <GET https://recipes.timesofindia.com/us/recipes/veg-dinners/61361358?curpg=3> (referer: None)\n",
            "2022-05-25 06:48:57 [scrapy.core.engine] DEBUG: Crawled (200) <GET https://recipes.timesofindia.com/us/recipes/veg-dinners/61361358> (referer: None)\n",
            "2022-05-25 06:48:57 [scrapy.core.engine] DEBUG: Crawled (200) <GET https://recipes.timesofindia.com/us/recipes/desserts/listing/67640354.cms> (referer: https://recipes.timesofindia.com/us/recipes/veg-dinners/61361358?curpg=2)\n"
          ]
        },
        {
          "output_type": "stream",
          "name": "stdout",
          "text": [
            "Filtered links:  ['https://recipes.timesofindia.com/us/recipes/desserts/listing/67640354.cms', 'https://recipes.timesofindia.com/us/recipes/diet-plans/listing/67640377.cms', 'https://recipes.timesofindia.com/us/recipes/satrangi-sabzi/rs81407036.cms', 'https://recipes.timesofindia.com/us/recipes/satrangi-sabzi/rs81407036.cms', 'https://recipes.timesofindia.com/us/recipes/thai-rolls-with-tofu/rs81306480.cms', 'https://recipes.timesofindia.com/us/recipes/thai-rolls-with-tofu/rs81306480.cms', 'https://recipes.timesofindia.com/us/recipes/king-oyster-mushrooms/rs81225657.cms', 'https://recipes.timesofindia.com/us/recipes/king-oyster-mushrooms/rs81225657.cms', 'https://recipes.timesofindia.com/us/recipes/aloo-jeera-wrap/rs80784064.cms', 'https://recipes.timesofindia.com/us/recipes/aloo-jeera-wrap/rs80784064.cms', 'https://recipes.timesofindia.com/us/recipes/ragi-pizza/rs80767203.cms', 'https://recipes.timesofindia.com/us/recipes/ragi-pizza/rs80767203.cms', 'https://recipes.timesofindia.com/us/recipes/butter-chickpea-curry/rs60770271.cms', 'https://recipes.timesofindia.com/us/recipes/butter-chickpea-curry/rs60770271.cms', 'https://recipes.timesofindia.com/us/recipes/kaju-curry/rs74221955.cms', 'https://recipes.timesofindia.com/us/recipes/kaju-curry/rs74221955.cms', 'https://recipes.timesofindia.com/us/recipes/masala-dosa/rs54289752.cms', 'https://recipes.timesofindia.com/us/recipes/masala-dosa/rs54289752.cms', 'https://recipes.timesofindia.com/us/recipes/tomato-garlic-pasta/rs52759758.cms', 'https://recipes.timesofindia.com/us/recipes/tomato-garlic-pasta/rs52759758.cms', 'https://recipes.timesofindia.com/us/recipes/madhia/rs80292096.cms', 'https://recipes.timesofindia.com/us/recipes/madhia/rs80292096.cms', 'https://recipes.timesofindia.com/us/recipes/vegetable-pasta-augratin/rs80237981.cms', 'https://recipes.timesofindia.com/us/recipes/vegetable-pasta-augratin/rs80237981.cms', 'https://recipes.timesofindia.com/us/recipes/sarson-da-saag/rs54670698.cms', 'https://recipes.timesofindia.com/us/recipes/sarson-da-saag/rs54670698.cms', 'https://recipes.timesofindia.com/us/recipes/elumichai-sadam/rs80217961.cms', 'https://recipes.timesofindia.com/us/recipes/elumichai-sadam/rs80217961.cms', 'https://recipes.timesofindia.com/us/recipes/chole-bhatura/rs53314156.cms', 'https://recipes.timesofindia.com/us/recipes/chole-bhatura/rs53314156.cms', 'https://recipes.timesofindia.com/us/recipes/kalagura-pulusu/rs66731982.cms', 'https://recipes.timesofindia.com/us/recipes/kalagura-pulusu/rs66731982.cms', 'https://recipes.timesofindia.com/us/recipes/til-poli/rs73243345.cms', 'https://recipes.timesofindia.com/us/recipes/til-poli/rs73243345.cms', 'https://recipes.timesofindia.com/us/recipes/arhar-dal/rs71661408.cms', 'https://recipes.timesofindia.com/us/recipes/arhar-dal/rs71661408.cms', 'https://recipes.timesofindia.com/us/recipes/green-chana/rs79319516.cms', 'https://recipes.timesofindia.com/us/recipes/green-chana/rs79319516.cms', 'https://recipes.timesofindia.com/us/recipes/keto-veg-manchurian/rs79301925.cms', 'https://recipes.timesofindia.com/us/recipes/keto-veg-manchurian/rs79301925.cms', 'https://recipes.timesofindia.com/us/recipes/kolhapuri-egg-curry/rs79298426.cms', 'https://recipes.timesofindia.com/us/recipes/kolhapuri-egg-curry/rs79298426.cms', 'https://recipes.timesofindia.com/us/recipes/celery-linguini/rs79279290.cms', 'https://recipes.timesofindia.com/us/recipes/celery-linguini/rs79279290.cms', 'https://recipes.timesofindia.com/us/recipes/muradabadi-chicken-biryani/rs69038542.cms', 'https://recipes.timesofindia.com/us/recipes/keema/rs53991547.cms', 'https://recipes.timesofindia.com/us/recipes/gobhi-paratha/rs53335308.cms', 'https://recipes.timesofindia.com/us/recipes/mediterranean-greek-salad/rs58895943.cms', 'https://recipes.timesofindia.com/us/recipes/kadhai-chicken/rs53523514.cms', 'https://recipes.timesofindia.com/us/recipes/aloo-paratha/rs53109843.cms', 'https://recipes.timesofindia.com/us/recipes/puran-poli/rs55045560.cms', 'https://recipes.timesofindia.com/us/recipes/palak-paneer/rs53093667.cms', 'https://recipes.timesofindia.com/us/recipes/rasgulla/rs52743612.cms', 'https://recipes.timesofindia.com/us/recipes/khichdi/rs74297416.cms', 'https://recipes.timesofindia.com/us/recipes/gulab-jamun/rs63799510.cms', 'https://recipes.timesofindia.com/us/recipes/samosa/rs61050397.cms', 'https://recipes.timesofindia.com/us/recipes/lemon-rice/rs53870704.cms', 'https://recipes.timesofindia.com/us/recipes/upma/rs53111410.cms', 'https://recipes.timesofindia.com/us/recipes/vegetable-biryani-by-pankaj-bhadouria/rs53098310.cms', 'https://recipes.timesofindia.com/us/recipes/chicken-65/rs53683545.cms', 'https://recipes.timesofindia.com/us/recipes/sooji-halwa/rs64290285.cms', 'https://recipes.timesofindia.com/us/recipes/chicken-manchurian/rs53241077.cms']\n",
            "Filtered links:  ['https://recipes.timesofindia.com/us/recipes/desserts/listing/67640354.cms', 'https://recipes.timesofindia.com/us/recipes/diet-plans/listing/67640377.cms', 'https://recipes.timesofindia.com/recipes/hyderabadi-veg-biryani/rs57647608.cms', 'https://recipes.timesofindia.com/us/recipes/tomato-pulao/rs91635278.cms', 'https://recipes.timesofindia.com/us/recipes/tomato-pulao/rs91635278.cms', 'https://recipes.timesofindia.com/us/recipes/moringa-subzi-with-laccha-paratha/rs91083038.cms', 'https://recipes.timesofindia.com/us/recipes/moringa-subzi-with-laccha-paratha/rs91083038.cms', 'https://recipes.timesofindia.com/us/recipes/honey-chilli-idli/rs90094836.cms', 'https://recipes.timesofindia.com/us/recipes/honey-chilli-idli/rs90094836.cms', 'https://recipes.timesofindia.com/us/recipes/vegetable-balls/rs89963662.cms', 'https://recipes.timesofindia.com/us/recipes/vegetable-balls/rs89963662.cms', 'https://recipes.timesofindia.com/us/recipes/banana-cheela/rs89586552.cms', 'https://recipes.timesofindia.com/us/recipes/banana-cheela/rs89586552.cms', 'https://recipes.timesofindia.com/us/recipes/roasted-cauliflower-soup/rs89402040.cms', 'https://recipes.timesofindia.com/us/recipes/roasted-cauliflower-soup/rs89402040.cms', 'https://recipes.timesofindia.com/us/recipes/chicken-casserole/rs89263617.cms', 'https://recipes.timesofindia.com/us/recipes/chicken-casserole/rs89263617.cms', 'https://recipes.timesofindia.com/us/recipes/sweet-potato-balls/rs89247925.cms', 'https://recipes.timesofindia.com/us/recipes/sweet-potato-balls/rs89247925.cms', 'https://recipes.timesofindia.com/us/recipes/broccoli-spinach-cheela/rs89088496.cms', 'https://recipes.timesofindia.com/us/recipes/broccoli-spinach-cheela/rs89088496.cms', 'https://recipes.timesofindia.com/us/recipes/sooji-pizza/rs87149823.cms', 'https://recipes.timesofindia.com/us/recipes/sooji-pizza/rs87149823.cms', 'https://recipes.timesofindia.com/us/recipes/potato-cheela/rs86983097.cms', 'https://recipes.timesofindia.com/us/recipes/potato-cheela/rs86983097.cms', 'https://recipes.timesofindia.com/us/recipes/tadka-idli/rs86335458.cms', 'https://recipes.timesofindia.com/us/recipes/tadka-idli/rs86335458.cms', 'https://recipes.timesofindia.com/us/recipes/rajma-chaat/rs85757877.cms', 'https://recipes.timesofindia.com/us/recipes/rajma-chaat/rs85757877.cms', 'https://recipes.timesofindia.com/us/recipes/vegetable-pancake/rs85392660.cms', 'https://recipes.timesofindia.com/us/recipes/vegetable-pancake/rs85392660.cms', 'https://recipes.timesofindia.com/us/recipes/tapioca-curry/rs85184574.cms', 'https://recipes.timesofindia.com/us/recipes/tapioca-curry/rs85184574.cms', 'https://recipes.timesofindia.com/us/recipes/rava-upma/rs84709540.cms', 'https://recipes.timesofindia.com/us/recipes/rava-upma/rs84709540.cms', 'https://recipes.timesofindia.com/us/recipes/moonglet/rs84617377.cms', 'https://recipes.timesofindia.com/us/recipes/moonglet/rs84617377.cms', 'https://recipes.timesofindia.com/us/recipes/soya-chaap-masala/rs84264176.cms', 'https://recipes.timesofindia.com/us/recipes/soya-chaap-masala/rs84264176.cms', 'https://recipes.timesofindia.com/us/recipes/masala-pasta/rs84008274.cms', 'https://recipes.timesofindia.com/us/recipes/masala-pasta/rs84008274.cms', 'https://recipes.timesofindia.com/us/recipes/sprouts-salad/rs83627049.cms', 'https://recipes.timesofindia.com/us/recipes/sprouts-salad/rs83627049.cms', 'https://recipes.timesofindia.com/us/recipes/beetroot-cheela/rs83427720.cms', 'https://recipes.timesofindia.com/us/recipes/beetroot-cheela/rs83427720.cms', 'https://recipes.timesofindia.com/us/recipes/muradabadi-chicken-biryani/rs69038542.cms', 'https://recipes.timesofindia.com/us/recipes/keema/rs53991547.cms', 'https://recipes.timesofindia.com/us/recipes/gobhi-paratha/rs53335308.cms', 'https://recipes.timesofindia.com/us/recipes/mediterranean-greek-salad/rs58895943.cms', 'https://recipes.timesofindia.com/us/recipes/kadhai-chicken/rs53523514.cms', 'https://recipes.timesofindia.com/us/recipes/aloo-paratha/rs53109843.cms', 'https://recipes.timesofindia.com/us/recipes/puran-poli/rs55045560.cms', 'https://recipes.timesofindia.com/us/recipes/palak-paneer/rs53093667.cms', 'https://recipes.timesofindia.com/us/recipes/rasgulla/rs52743612.cms', 'https://recipes.timesofindia.com/us/recipes/khichdi/rs74297416.cms', 'https://recipes.timesofindia.com/us/recipes/gulab-jamun/rs63799510.cms', 'https://recipes.timesofindia.com/us/recipes/samosa/rs61050397.cms', 'https://recipes.timesofindia.com/us/recipes/lemon-rice/rs53870704.cms', 'https://recipes.timesofindia.com/us/recipes/upma/rs53111410.cms', 'https://recipes.timesofindia.com/us/recipes/vegetable-biryani-by-pankaj-bhadouria/rs53098310.cms', 'https://recipes.timesofindia.com/us/recipes/chicken-65/rs53683545.cms', 'https://recipes.timesofindia.com/us/recipes/sooji-halwa/rs64290285.cms', 'https://recipes.timesofindia.com/us/recipes/chicken-manchurian/rs53241077.cms']\n"
          ]
        },
        {
          "output_type": "stream",
          "name": "stderr",
          "text": [
            "2022-05-25 06:48:57 [scrapy.core.scraper] ERROR: Spider error processing <GET https://recipes.timesofindia.com/us/recipes/desserts/listing/67640354.cms> (referer: https://recipes.timesofindia.com/us/recipes/veg-dinners/61361358?curpg=2)\n",
            "Traceback (most recent call last):\n",
            "  File \"/usr/local/lib/python3.7/dist-packages/twisted/internet/defer.py\", line 858, in _runCallbacks\n",
            "    current.result, *args, **kwargs\n",
            "  File \"<ipython-input-3-bfc4e45adf65>\", line 22, in parseRecipe\n",
            "    recipeName = recipeName[:-7] # Remove the word 'Recipe' from Recipe Name\n",
            "TypeError: 'NoneType' object is not subscriptable\n",
            "2022-05-25 06:48:58 [scrapy.core.engine] DEBUG: Crawled (200) <GET https://recipes.timesofindia.com/us/recipes/bibimbap/rs82973328.cms> (referer: https://recipes.timesofindia.com/us/recipes/veg-dinners/61361358?curpg=2)\n"
          ]
        },
        {
          "output_type": "stream",
          "name": "stdout",
          "text": [
            "RecipeName =  Bibimbap\n",
            "Ingredients =  ['cucumber english', 'spinach', 'virgin olive oil', 'garlic', 'egg', 'salt', 'pepper sauce', 'soy sauce', 'carrot', 'chilli flakes', 'rice']\n",
            "Url: https://recipes.timesofindia.com/us/recipes/bibimbap/rs82973328.cms\n"
          ]
        },
        {
          "output_type": "stream",
          "name": "stderr",
          "text": [
            "2022-05-25 06:48:58 [scrapy.core.engine] DEBUG: Crawled (200) <GET https://recipes.timesofindia.com/us/recipes/veg-fried-rice/rs83107439.cms> (referer: https://recipes.timesofindia.com/us/recipes/veg-dinners/61361358?curpg=2)\n",
            "2022-05-25 06:48:58 [scrapy.core.engine] DEBUG: Crawled (200) <GET https://recipes.timesofindia.com/us/recipes/cherry-tomato-couscous-salad/rs83027806.cms> (referer: https://recipes.timesofindia.com/us/recipes/veg-dinners/61361358?curpg=2)\n",
            "2022-05-25 06:48:58 [scrapy.core.engine] DEBUG: Crawled (200) <GET https://recipes.timesofindia.com/us/recipes/kale-and-strawberry-salad/rs82683113.cms> (referer: https://recipes.timesofindia.com/us/recipes/veg-dinners/61361358?curpg=2)\n"
          ]
        },
        {
          "output_type": "stream",
          "name": "stdout",
          "text": [
            "RecipeName =  Veg Fried Rice\n",
            "Ingredients =  ['rice', 'soy sauce', 'garlic', 'carrot', 'cabbage', 'green onion', 'black pepper', 'sunflower oil', 'vinegar', 'onion', 'red bell pepper', 'green beans', 'salt']\n",
            "Url: https://recipes.timesofindia.com/us/recipes/veg-fried-rice/rs83107439.cms\n",
            "RecipeName =  Cherry Tomato Couscous Salad\n",
            "Ingredients =  ['couscous', 'chickpeas', 'cucumber', 'basil', 'lime juice', 'green olives', 'extra virgin olive oil', 'oregano', 'cherry tomatoes', 'red bell pepper', 'parsley', 'pumpkin seeds', 'garlic', 'white vinegar', 'salt']\n",
            "Url: https://recipes.timesofindia.com/us/recipes/cherry-tomato-couscous-salad/rs83027806.cms\n",
            "RecipeName =  Kale and strawberry salad\n",
            "Ingredients =  ['kale', 'lemon juice', 'salt', 'maple syrup', 'strawberry', 'virgin olive oil', 'sesame seeds']\n",
            "Url: https://recipes.timesofindia.com/us/recipes/kale-and-strawberry-salad/rs82683113.cms\n"
          ]
        },
        {
          "output_type": "stream",
          "name": "stderr",
          "text": [
            "2022-05-25 06:48:58 [scrapy.core.engine] DEBUG: Crawled (200) <GET https://recipes.timesofindia.com/us/recipes/veg-dinners/61361358?curpg=4> (referer: None)\n",
            "2022-05-25 06:48:58 [scrapy.core.engine] DEBUG: Crawled (200) <GET https://recipes.timesofindia.com/us/recipes/mint-raita/rs83005406.cms> (referer: https://recipes.timesofindia.com/us/recipes/veg-dinners/61361358?curpg=2)\n",
            "2022-05-25 06:48:59 [scrapy.core.engine] DEBUG: Crawled (200) <GET https://recipes.timesofindia.com/us/recipes/diet-plans/listing/67640377.cms> (referer: https://recipes.timesofindia.com/us/recipes/veg-dinners/61361358?curpg=2)\n",
            "2022-05-25 06:48:59 [scrapy.core.scraper] ERROR: Spider error processing <GET https://recipes.timesofindia.com/us/recipes/diet-plans/listing/67640377.cms> (referer: https://recipes.timesofindia.com/us/recipes/veg-dinners/61361358?curpg=2)\n",
            "Traceback (most recent call last):\n",
            "  File \"/usr/local/lib/python3.7/dist-packages/twisted/internet/defer.py\", line 858, in _runCallbacks\n",
            "    current.result, *args, **kwargs\n",
            "  File \"<ipython-input-3-bfc4e45adf65>\", line 22, in parseRecipe\n",
            "    recipeName = recipeName[:-7] # Remove the word 'Recipe' from Recipe Name\n",
            "TypeError: 'NoneType' object is not subscriptable\n",
            "2022-05-25 06:48:59 [scrapy.core.engine] DEBUG: Crawled (200) <GET https://recipes.timesofindia.com/us/recipes/pink-sauce-pasta/rs83107712.cms> (referer: https://recipes.timesofindia.com/us/recipes/veg-dinners/61361358?curpg=2)\n"
          ]
        },
        {
          "output_type": "stream",
          "name": "stdout",
          "text": [
            "Filtered links:  ['https://recipes.timesofindia.com/us/recipes/desserts/listing/67640354.cms', 'https://recipes.timesofindia.com/us/recipes/diet-plans/listing/67640377.cms', 'https://recipes.timesofindia.com/us/recipes/oats-dhokla/rs79041828.cms', 'https://recipes.timesofindia.com/us/recipes/oats-dhokla/rs79041828.cms', 'https://recipes.timesofindia.com/us/recipes/bhoger-khichuri/rs78895162.cms', 'https://recipes.timesofindia.com/us/recipes/bhoger-khichuri/rs78895162.cms', 'https://recipes.timesofindia.com/us/recipes/kuttu-ka-cheela/rs78947889.cms', 'https://recipes.timesofindia.com/us/recipes/kuttu-ka-cheela/rs78947889.cms', 'https://recipes.timesofindia.com/us/recipes/mawa-green-peas-curry/rs75048665.cms', 'https://recipes.timesofindia.com/us/recipes/mawa-green-peas-curry/rs75048665.cms', 'https://recipes.timesofindia.com/us/recipes/garlic-lachcha-paratha/rs75553137.cms', 'https://recipes.timesofindia.com/us/recipes/garlic-lachcha-paratha/rs75553137.cms', 'https://recipes.timesofindia.com/us/recipes/baked-rice/rs78411396.cms', 'https://recipes.timesofindia.com/us/recipes/baked-rice/rs78411396.cms', 'https://recipes.timesofindia.com/us/recipes/chaal-potol/rs78314910.cms', 'https://recipes.timesofindia.com/us/recipes/chaal-potol/rs78314910.cms', 'https://recipes.timesofindia.com/us/recipes/gatte-ki-curry/rs78314179.cms', 'https://recipes.timesofindia.com/us/recipes/gatte-ki-curry/rs78314179.cms', 'https://recipes.timesofindia.com/us/recipes/torai-ka-bharta/rs78313487.cms', 'https://recipes.timesofindia.com/us/recipes/torai-ka-bharta/rs78313487.cms', 'https://recipes.timesofindia.com/us/recipes/broccoli-stir-fry/rs78301610.cms', 'https://recipes.timesofindia.com/us/recipes/broccoli-stir-fry/rs78301610.cms', 'https://recipes.timesofindia.com/us/recipes/tandoori-chaap-tikka/rs77432463.cms', 'https://recipes.timesofindia.com/us/recipes/tandoori-chaap-tikka/rs77432463.cms', 'https://recipes.timesofindia.com/us/recipes/raw-banana-chop-masala/rs77411994.cms', 'https://recipes.timesofindia.com/us/recipes/raw-banana-chop-masala/rs77411994.cms', 'https://recipes.timesofindia.com/us/recipes/daal-dhokli/rs77367592.cms', 'https://recipes.timesofindia.com/us/recipes/daal-dhokli/rs77367592.cms', 'https://recipes.timesofindia.com/us/recipes/mutter-gobi-masala/rs77387335.cms', 'https://recipes.timesofindia.com/us/recipes/mutter-gobi-masala/rs77387335.cms', 'https://recipes.timesofindia.com/us/recipes/green-moong-dal/rs77387218.cms', 'https://recipes.timesofindia.com/us/recipes/green-moong-dal/rs77387218.cms', 'https://recipes.timesofindia.com/us/recipes/pan-roasted-baby-potatoes/rs77236248.cms', 'https://recipes.timesofindia.com/us/recipes/pan-roasted-baby-potatoes/rs77236248.cms', 'https://recipes.timesofindia.com/us/recipes/dal-pakwan/rs77206291.cms', 'https://recipes.timesofindia.com/us/recipes/dal-pakwan/rs77206291.cms', 'https://recipes.timesofindia.com/us/recipes/spaghetti-pomodoro-e-basilico/rs77044821.cms', 'https://recipes.timesofindia.com/us/recipes/spaghetti-pomodoro-e-basilico/rs77044821.cms', 'https://recipes.timesofindia.com/us/recipes/skillet-mac-amp-cheese/rs76872264.cms', 'https://recipes.timesofindia.com/us/recipes/skillet-mac-amp-cheese/rs76872264.cms', 'https://recipes.timesofindia.com/us/recipes/farre-aur-aloo-ki-subzee/rs76868931.cms', 'https://recipes.timesofindia.com/us/recipes/farre-aur-aloo-ki-subzee/rs76868931.cms', 'https://recipes.timesofindia.com/us/recipes/pasta-verde/rs76854468.cms', 'https://recipes.timesofindia.com/us/recipes/pasta-verde/rs76854468.cms', 'https://recipes.timesofindia.com/us/recipes/muradabadi-chicken-biryani/rs69038542.cms', 'https://recipes.timesofindia.com/us/recipes/keema/rs53991547.cms', 'https://recipes.timesofindia.com/us/recipes/gobhi-paratha/rs53335308.cms', 'https://recipes.timesofindia.com/us/recipes/mediterranean-greek-salad/rs58895943.cms', 'https://recipes.timesofindia.com/us/recipes/kadhai-chicken/rs53523514.cms', 'https://recipes.timesofindia.com/us/recipes/aloo-paratha/rs53109843.cms', 'https://recipes.timesofindia.com/us/recipes/puran-poli/rs55045560.cms', 'https://recipes.timesofindia.com/us/recipes/palak-paneer/rs53093667.cms', 'https://recipes.timesofindia.com/us/recipes/rasgulla/rs52743612.cms', 'https://recipes.timesofindia.com/us/recipes/khichdi/rs74297416.cms', 'https://recipes.timesofindia.com/us/recipes/gulab-jamun/rs63799510.cms', 'https://recipes.timesofindia.com/us/recipes/samosa/rs61050397.cms', 'https://recipes.timesofindia.com/us/recipes/lemon-rice/rs53870704.cms', 'https://recipes.timesofindia.com/us/recipes/upma/rs53111410.cms', 'https://recipes.timesofindia.com/us/recipes/vegetable-biryani-by-pankaj-bhadouria/rs53098310.cms', 'https://recipes.timesofindia.com/us/recipes/chicken-65/rs53683545.cms', 'https://recipes.timesofindia.com/us/recipes/sooji-halwa/rs64290285.cms', 'https://recipes.timesofindia.com/us/recipes/chicken-manchurian/rs53241077.cms']\n",
            "RecipeName =  Mint Raita\n",
            "Ingredients =  ['yoghurt (curd)', 'green chilli', 'cucumber', 'red chilli powder', 'cumin powder', 'mint leaves', 'onion', 'salt', 'sugar']\n",
            "Url: https://recipes.timesofindia.com/us/recipes/mint-raita/rs83005406.cms\n"
          ]
        },
        {
          "output_type": "stream",
          "name": "stderr",
          "text": [
            "2022-05-25 06:48:59 [scrapy.core.engine] DEBUG: Crawled (200) <GET https://recipes.timesofindia.com/us/recipes/chicken-manchurian/rs53241077.cms> (referer: https://recipes.timesofindia.com/us/recipes/veg-dinners/61361358?curpg=2)\n"
          ]
        },
        {
          "output_type": "stream",
          "name": "stdout",
          "text": [
            "RecipeName =  Pink Sauce Pasta\n",
            "Ingredients =  ['pasta penne', 'yellow bell pepper', 'salt', 'refined flour', 'oregano', 'cheese cubes', 'vegetable oil', 'onion', 'tomato puree', 'black pepper', 'milk', 'red chilli powder', 'butter', 'tomato ketchup']\n",
            "Url: https://recipes.timesofindia.com/us/recipes/pink-sauce-pasta/rs83107712.cms\n",
            "RecipeName =  Chicken Manchurian\n",
            "Ingredients =  ['chicken', 'all purpose flour', 'refined oil', 'garlic paste', 'chicken stock', 'black pepper', 'spring onions', 'garlic', 'schezwan sauce', 'green chilli sauce', 'corn flour', 'egg', 'ginger paste', 'green chilli', 'light soya sauce', 'water', 'salt', 'ginger', 'red chilli sauce', 'onion']\n",
            "Url: https://recipes.timesofindia.com/us/recipes/chicken-manchurian/rs53241077.cms\n"
          ]
        },
        {
          "output_type": "stream",
          "name": "stderr",
          "text": [
            "2022-05-25 06:48:59 [scrapy.core.engine] DEBUG: Crawled (200) <GET https://recipes.timesofindia.com/us/recipes/asparagus-green-bean-and-baby-tomato-salad/rs83143853.cms> (referer: https://recipes.timesofindia.com/us/recipes/veg-dinners/61361358?curpg=2)\n",
            "2022-05-25 06:49:00 [scrapy.core.engine] DEBUG: Crawled (200) <GET https://recipes.timesofindia.com/us/recipes/masala-pasta/rs84008274.cms> (referer: https://recipes.timesofindia.com/us/recipes/veg-dinners/61361358)\n"
          ]
        },
        {
          "output_type": "stream",
          "name": "stdout",
          "text": [
            "RecipeName =  Asparagus green bean and baby tomato salad\n",
            "Ingredients =  ['asparagus', 'cherry tomatoes', 'salt', 'lemon juice', 'green beans', 'extra virgin olive oil', 'garlic']\n",
            "Url: https://recipes.timesofindia.com/us/recipes/asparagus-green-bean-and-baby-tomato-salad/rs83143853.cms\n",
            "RecipeName =  Masala Pasta\n",
            "Ingredients =  ['pasta penne', 'tomato', 'turmeric', 'coriander powder', 'garam masala powder', 'garlic', 'vegetable oil', 'onion', 'capsicum (green pepper)', 'red chilli powder', 'dry mango powder', 'salt', 'tomato ketchup']\n",
            "Url: https://recipes.timesofindia.com/us/recipes/masala-pasta/rs84008274.cms\n"
          ]
        },
        {
          "output_type": "stream",
          "name": "stderr",
          "text": [
            "2022-05-25 06:49:00 [scrapy.core.engine] DEBUG: Crawled (200) <GET https://recipes.timesofindia.com/us/recipes/roasted-vegetables/rs83144652.cms> (referer: https://recipes.timesofindia.com/us/recipes/veg-dinners/61361358?curpg=2)\n",
            "2022-05-25 06:49:00 [scrapy.core.engine] DEBUG: Crawled (200) <GET https://recipes.timesofindia.com/us/recipes/beetroot-cheela/rs83427720.cms> (referer: https://recipes.timesofindia.com/us/recipes/veg-dinners/61361358)\n"
          ]
        },
        {
          "output_type": "stream",
          "name": "stdout",
          "text": [
            "RecipeName =  Roasted Vegetables\n",
            "Ingredients =  ['yellow bell pepper', 'zucchini', 'tomato', 'rosemary leaves', 'mixed herbs', 'paprika', 'salt', 'red bell pepper', 'capsicum (green pepper)', 'potato', 'extra virgin olive oil', 'black pepper', 'lemon juice', 'onion']\n",
            "Url: https://recipes.timesofindia.com/us/recipes/roasted-vegetables/rs83144652.cms\n",
            "RecipeName =  Beetroot Cheela\n",
            "Ingredients =  ['gram flour (besan)', 'asafoetida', 'salt', 'beetroot', 'vegetable oil', 'oats powder', 'carom seeds', 'coriander leaves', 'onion']\n",
            "Url: https://recipes.timesofindia.com/us/recipes/beetroot-cheela/rs83427720.cms\n"
          ]
        },
        {
          "output_type": "stream",
          "name": "stderr",
          "text": [
            "2022-05-25 06:49:00 [scrapy.core.engine] DEBUG: Crawled (200) <GET https://recipes.timesofindia.com/us/recipes/lemon-rice/rs53870704.cms> (referer: https://recipes.timesofindia.com/us/recipes/veg-dinners/61361358?curpg=2)\n",
            "2022-05-25 06:49:01 [scrapy.core.engine] DEBUG: Crawled (200) <GET https://recipes.timesofindia.com/us/recipes/sooji-halwa/rs64290285.cms> (referer: https://recipes.timesofindia.com/us/recipes/veg-dinners/61361358?curpg=2)\n"
          ]
        },
        {
          "output_type": "stream",
          "name": "stdout",
          "text": [
            "RecipeName =  Lemon Rice\n",
            "Ingredients =  ['basmati rice', 'turmeric', 'curry leaves', 'salt', 'butter', 'lemon juice', 'raw peanuts', 'mustard seeds', 'red chilli']\n",
            "Url: https://recipes.timesofindia.com/us/recipes/lemon-rice/rs53870704.cms\n"
          ]
        },
        {
          "output_type": "stream",
          "name": "stderr",
          "text": [
            "2022-05-25 06:49:01 [scrapy.core.engine] DEBUG: Crawled (200) <GET https://recipes.timesofindia.com/us/recipes/sprouts-salad/rs83627049.cms> (referer: https://recipes.timesofindia.com/us/recipes/veg-dinners/61361358)\n"
          ]
        },
        {
          "output_type": "stream",
          "name": "stdout",
          "text": [
            "RecipeName =  Sooji Halwa\n",
            "Ingredients =  ['semolina', 'ghee', 'water', 'sugar', 'green cardamom', 'almonds']\n",
            "Url: https://recipes.timesofindia.com/us/recipes/sooji-halwa/rs64290285.cms\n",
            "RecipeName =  Sprouts Salad\n",
            "Ingredients =  ['boiled sprouted moong', 'cucumber', 'onion', 'salt', 'juice of 1 lemon', 'sprouted kala chana', 'tomato', 'yellow bell pepper', 'black pepper']\n",
            "Url: https://recipes.timesofindia.com/us/recipes/sprouts-salad/rs83627049.cms\n"
          ]
        },
        {
          "output_type": "stream",
          "name": "stderr",
          "text": [
            "2022-05-25 06:49:02 [scrapy.core.engine] DEBUG: Crawled (200) <GET https://recipes.timesofindia.com/us/recipes/soya-chaap-masala/rs84264176.cms> (referer: https://recipes.timesofindia.com/us/recipes/veg-dinners/61361358)\n",
            "2022-05-25 06:49:02 [scrapy.core.engine] DEBUG: Crawled (200) <GET https://recipes.timesofindia.com/us/recipes/pasta-verde/rs76854468.cms> (referer: https://recipes.timesofindia.com/us/recipes/veg-dinners/61361358?curpg=4)\n",
            "2022-05-25 06:49:02 [scrapy.core.engine] DEBUG: Crawled (200) <GET https://recipes.timesofindia.com/us/recipes/rava-upma/rs84709540.cms> (referer: https://recipes.timesofindia.com/us/recipes/veg-dinners/61361358)\n",
            "2022-05-25 06:49:02 [scrapy.core.engine] DEBUG: Crawled (200) <GET https://recipes.timesofindia.com/us/recipes/moonglet/rs84617377.cms> (referer: https://recipes.timesofindia.com/us/recipes/veg-dinners/61361358)\n"
          ]
        },
        {
          "output_type": "stream",
          "name": "stdout",
          "text": [
            "RecipeName =  Soya Chaap Masala\n",
            "Ingredients =  ['soya chaap', 'cinnamon stick', 'green cardamom', 'bay leaf', 'onion', 'salt', 'fennel seeds powder', 'coriander leaves', 'vegetable oil', 'black cardamom', 'clove', 'kashmiri red chilli', 'dried ginger powder', 'yoghurt (curd)', 'garam masala powder', 'water']\n",
            "Url: https://recipes.timesofindia.com/us/recipes/soya-chaap-masala/rs84264176.cms\n"
          ]
        },
        {
          "output_type": "stream",
          "name": "stderr",
          "text": [
            "2022-05-25 06:49:02 [scrapy.core.engine] DEBUG: Crawled (200) <GET https://recipes.timesofindia.com/us/recipes/tapioca-curry/rs85184574.cms> (referer: https://recipes.timesofindia.com/us/recipes/veg-dinners/61361358)\n",
            "2022-05-25 06:49:02 [scrapy.core.engine] DEBUG: Crawled (200) <GET https://recipes.timesofindia.com/us/recipes/farre-aur-aloo-ki-subzee/rs76868931.cms> (referer: https://recipes.timesofindia.com/us/recipes/veg-dinners/61361358?curpg=4)\n"
          ]
        },
        {
          "output_type": "stream",
          "name": "stdout",
          "text": [
            "RecipeName =  Pasta Verde\n",
            "Ingredients =  ['pasta spaghetti', 'garlic', 'salt', 'extra virgin olive oil', 'water', 'fresh cream', 'basil', 'black pepper', 'parmesan cheese']\n",
            "Url: https://recipes.timesofindia.com/us/recipes/pasta-verde/rs76854468.cms\n",
            "RecipeName =  Rava Upma\n",
            "Ingredients =  ['semolina', 'dry red chili', 'onion', 'ginger', 'urad dal', 'curry leaves', 'mustard seeds', 'asafoetida', 'carrot', 'salt', 'vegetable oil', 'water']\n",
            "Url: https://recipes.timesofindia.com/us/recipes/rava-upma/rs84709540.cms\n",
            "RecipeName =  Moonglet\n",
            "Ingredients =  ['yellow moong dal', 'capsicum (green pepper)', 'coriander leaves', 'dry mango powder', 'butter', 'onion', 'tomato', 'green chilli', 'asafoetida', 'salt']\n",
            "Url: https://recipes.timesofindia.com/us/recipes/moonglet/rs84617377.cms\n",
            "RecipeName =  Tapioca Curry\n",
            "Ingredients =  ['tapioca', 'green chilli', 'turmeric', 'garlic', 'mustard seeds', 'onion', 'salt', 'coconut', 'cumin seeds', 'water', 'curry leaves', 'coconut oil', 'red chilli powder', 'dry red chili']\n",
            "Url: https://recipes.timesofindia.com/us/recipes/tapioca-curry/rs85184574.cms\n",
            "RecipeName =  Farre Aur Aloo Ki Subzee\n",
            "Ingredients =  ['rice flour', 'garlic', 'green chillies', 'turmeric', 'urad dal', 'salt', 'water']\n",
            "Url: https://recipes.timesofindia.com/us/recipes/farre-aur-aloo-ki-subzee/rs76868931.cms\n"
          ]
        },
        {
          "output_type": "stream",
          "name": "stderr",
          "text": [
            "2022-05-25 06:49:04 [scrapy.core.engine] DEBUG: Crawled (200) <GET https://recipes.timesofindia.com/us/recipes/mutter-gobi-masala/rs77387335.cms> (referer: https://recipes.timesofindia.com/us/recipes/veg-dinners/61361358?curpg=4)\n",
            "2022-05-25 06:49:04 [scrapy.core.engine] DEBUG: Crawled (200) <GET https://recipes.timesofindia.com/us/recipes/green-moong-dal/rs77387218.cms> (referer: https://recipes.timesofindia.com/us/recipes/veg-dinners/61361358?curpg=4)\n",
            "2022-05-25 06:49:04 [scrapy.core.engine] DEBUG: Crawled (200) <GET https://recipes.timesofindia.com/us/recipes/pan-roasted-baby-potatoes/rs77236248.cms> (referer: https://recipes.timesofindia.com/us/recipes/veg-dinners/61361358?curpg=4)\n"
          ]
        },
        {
          "output_type": "stream",
          "name": "stdout",
          "text": [
            "RecipeName =  Mutter Gobi Masala\n",
            "Ingredients =  ['peas', 'onion', 'turmeric', 'garam masala powder', 'refined oil', 'garlic paste', 'cauliflower', 'tomato', 'red chilli powder', 'ginger paste', 'salt']\n",
            "Url: https://recipes.timesofindia.com/us/recipes/mutter-gobi-masala/rs77387335.cms\n",
            "RecipeName =  Green Moong Dal\n",
            "Ingredients =  ['green moong dal', 'tamarind extract', 'garlic', 'dry red chili', 'curry leaves', 'refined oil', 'mustard seeds', 'tomato', 'ginger paste', 'turmeric', 'asafoetida', 'salt', 'water', 'cumin seeds']\n",
            "Url: https://recipes.timesofindia.com/us/recipes/green-moong-dal/rs77387218.cms\n",
            "RecipeName =  Pan Roasted Baby Potatoes\n",
            "Ingredients =  ['potato', 'cumin seeds', 'green chilli', 'coriander powder', 'red chilli powder', 'vegetable oil', 'salt', 'garam masala powder', 'turmeric', 'dry mango powder', 'coriander leaves']\n",
            "Url: https://recipes.timesofindia.com/us/recipes/pan-roasted-baby-potatoes/rs77236248.cms\n"
          ]
        },
        {
          "output_type": "stream",
          "name": "stderr",
          "text": [
            "2022-05-25 06:49:04 [scrapy.core.engine] DEBUG: Crawled (200) <GET https://recipes.timesofindia.com/us/recipes/spaghetti-pomodoro-e-basilico/rs77044821.cms> (referer: https://recipes.timesofindia.com/us/recipes/veg-dinners/61361358?curpg=4)\n",
            "2022-05-25 06:49:04 [scrapy.core.engine] DEBUG: Crawled (200) <GET https://recipes.timesofindia.com/us/recipes/dal-pakwan/rs77206291.cms> (referer: https://recipes.timesofindia.com/us/recipes/veg-dinners/61361358?curpg=4)\n",
            "2022-05-25 06:49:04 [scrapy.core.engine] DEBUG: Crawled (200) <GET https://recipes.timesofindia.com/us/recipes/skillet-mac-amp-cheese/rs76872264.cms> (referer: https://recipes.timesofindia.com/us/recipes/veg-dinners/61361358?curpg=4)\n"
          ]
        },
        {
          "output_type": "stream",
          "name": "stdout",
          "text": [
            "RecipeName =  Spaghetti Pomodoro e Basilico\n",
            "Ingredients =  ['pasta spaghetti', 'basil', 'garlic', 'parmesan cheese', 'cherry tomatoes', 'chilli flakes', 'extra virgin olive oil']\n",
            "Url: https://recipes.timesofindia.com/us/recipes/spaghetti-pomodoro-e-basilico/rs77044821.cms\n",
            "RecipeName =  Dal Pakwan \n",
            "Ingredients =  ['chana dal', 'cumin seeds', 'red chilli powder', 'green chillies', 'refined flour', 'curry leaves', 'turmeric', 'dry mango powder', 'salt', 'refined oil']\n",
            "Url: https://recipes.timesofindia.com/us/recipes/dal-pakwan/rs77206291.cms\n",
            "RecipeName =  Skillet Mac & Cheese\n",
            "Ingredients =  ['pasta macaroni', 'monterey jack cheese', 'milk', 'butter', 'salt', 'panko breadcrumbs', 'cheddar cheese', 'all purpose flour', 'garlic powder', 'black pepper']\n",
            "Url: https://recipes.timesofindia.com/us/recipes/skillet-mac-amp-cheese/rs76872264.cms\n"
          ]
        },
        {
          "output_type": "stream",
          "name": "stderr",
          "text": [
            "2022-05-25 06:49:05 [scrapy.core.engine] DEBUG: Crawled (200) <GET https://recipes.timesofindia.com/us/recipes/tandoori-chaap-tikka/rs77432463.cms> (referer: https://recipes.timesofindia.com/us/recipes/veg-dinners/61361358?curpg=4)\n",
            "2022-05-25 06:49:05 [scrapy.core.engine] DEBUG: Crawled (200) <GET https://recipes.timesofindia.com/us/recipes/daal-dhokli/rs77367592.cms> (referer: https://recipes.timesofindia.com/us/recipes/veg-dinners/61361358?curpg=4)\n"
          ]
        },
        {
          "output_type": "stream",
          "name": "stdout",
          "text": [
            "RecipeName =  Tandoori Chaap Tikka\n",
            "Ingredients =  ['soya chaap', 'salt', 'coriander powder', 'black pepper', 'vegetable oil', 'capsicum (green pepper)', 'chaat masala', 'gram flour (besan)', 'red chilli powder', 'turmeric', 'garam masala powder', 'onion', 'yoghurt (curd)', 'lemon juice']\n",
            "Url: https://recipes.timesofindia.com/us/recipes/tandoori-chaap-tikka/rs77432463.cms\n",
            "RecipeName =  Daal Dhokli\n",
            "Ingredients =  ['toor daal', 'salt', 'green chillies', 'wheat flour', 'red chilli powder', 'ghee', 'mustard seeds', 'turmeric', 'ginger', 'garam masala powder', 'refined oil', 'lemon juice', 'asafoetida', 'coriander leaves']\n",
            "Url: https://recipes.timesofindia.com/us/recipes/daal-dhokli/rs77367592.cms\n"
          ]
        },
        {
          "output_type": "stream",
          "name": "stderr",
          "text": [
            "2022-05-25 06:49:06 [scrapy.core.engine] DEBUG: Crawled (200) <GET https://recipes.timesofindia.com/us/recipes/broccoli-stir-fry/rs78301610.cms> (referer: https://recipes.timesofindia.com/us/recipes/veg-dinners/61361358?curpg=4)\n",
            "2022-05-25 06:49:06 [scrapy.core.engine] DEBUG: Crawled (200) <GET https://recipes.timesofindia.com/us/recipes/raw-banana-chop-masala/rs77411994.cms> (referer: https://recipes.timesofindia.com/us/recipes/veg-dinners/61361358?curpg=4)\n",
            "2022-05-25 06:49:06 [scrapy.core.engine] DEBUG: Crawled (200) <GET https://recipes.timesofindia.com/us/recipes/torai-ka-bharta/rs78313487.cms> (referer: https://recipes.timesofindia.com/us/recipes/veg-dinners/61361358?curpg=4)\n"
          ]
        },
        {
          "output_type": "stream",
          "name": "stdout",
          "text": [
            "RecipeName =  Broccoli Stir Fry\n",
            "Ingredients =  ['broccoli', 'corn starch', 'groundnut oil', 'garlic', 'chilli flakes', 'soy sauce', 'sugar', 'scallions', 'ginger', 'sesame oil']\n",
            "Url: https://recipes.timesofindia.com/us/recipes/broccoli-stir-fry/rs78301610.cms\n",
            "RecipeName =  Raw Banana Chop Masala\n",
            "Ingredients =  ['green unripe bananas', 'walnuts', 'ginger', 'poppy seeds', 'red chilli powder', 'bay leaf', 'star anise', 'vegetable oil', 'cashews', 'onion ', 'garlic', 'turmeric', 'coriander powder', 'green cardamom', 'yoghurt (curd)', 'salt']\n",
            "Url: https://recipes.timesofindia.com/us/recipes/raw-banana-chop-masala/rs77411994.cms\n",
            "RecipeName =  Torai Ka Bharta\n",
            "Ingredients =  ['mustard oil', 'dry red chilli', 'ridge gourd', 'salt', 'garlic']\n",
            "Url: https://recipes.timesofindia.com/us/recipes/torai-ka-bharta/rs78313487.cms\n"
          ]
        },
        {
          "output_type": "stream",
          "name": "stderr",
          "text": [
            "2022-05-25 06:49:06 [scrapy.core.engine] DEBUG: Crawled (200) <GET https://recipes.timesofindia.com/us/recipes/chaal-potol/rs78314910.cms> (referer: https://recipes.timesofindia.com/us/recipes/veg-dinners/61361358?curpg=4)\n",
            "2022-05-25 06:49:06 [scrapy.core.engine] DEBUG: Crawled (200) <GET https://recipes.timesofindia.com/us/recipes/gatte-ki-curry/rs78314179.cms> (referer: https://recipes.timesofindia.com/us/recipes/veg-dinners/61361358?curpg=4)\n",
            "2022-05-25 06:49:07 [scrapy.core.engine] DEBUG: Crawled (200) <GET https://recipes.timesofindia.com/us/recipes/baked-rice/rs78411396.cms> (referer: https://recipes.timesofindia.com/us/recipes/veg-dinners/61361358?curpg=4)\n"
          ]
        },
        {
          "output_type": "stream",
          "name": "stdout",
          "text": [
            "RecipeName =  Chaal Potol\n",
            "Ingredients =  ['parwal', 'tomato', 'salt', 'garam masala powder', 'turmeric', 'gobindobhog rice', 'ginger', 'mustard oil', 'sugar']\n",
            "Url: https://recipes.timesofindia.com/us/recipes/chaal-potol/rs78314910.cms\n",
            "RecipeName =  Gatte ki Curry\n",
            "Ingredients =  ['gram flour (besan)', 'onion', 'coriander leaves', 'turmeric', 'refined oil', 'tomato puree', 'coriander leaves', 'poppy seeds', 'green chilli', 'red chilli powder', 'coriander powder', 'salt', 'ginger', 'garlic']\n",
            "Url: https://recipes.timesofindia.com/us/recipes/gatte-ki-curry/rs78314179.cms\n",
            "RecipeName =  Baked Rice\n",
            "Ingredients =  ['basmati rice', 'light soya sauce', 'spring onions', 'eggplant/ brinjal', 'peas', 'turmeric', 'butter', 'water', 'chilli garlic paste', 'vegetable oil', 'salt', 'garlic', 'potato', 'curry powder', 'chilli powder', 'coconut milk powder', 'refined oil', 'fried onion (birista)']\n",
            "Url: https://recipes.timesofindia.com/us/recipes/baked-rice/rs78411396.cms\n"
          ]
        },
        {
          "output_type": "stream",
          "name": "stderr",
          "text": [
            "2022-05-25 06:49:07 [scrapy.core.engine] DEBUG: Crawled (200) <GET https://recipes.timesofindia.com/us/recipes/garlic-lachcha-paratha/rs75553137.cms> (referer: https://recipes.timesofindia.com/us/recipes/veg-dinners/61361358?curpg=4)\n",
            "2022-05-25 06:49:07 [scrapy.core.engine] DEBUG: Crawled (200) <GET https://recipes.timesofindia.com/us/recipes/mawa-green-peas-curry/rs75048665.cms> (referer: https://recipes.timesofindia.com/us/recipes/veg-dinners/61361358?curpg=4)\n",
            "2022-05-25 06:49:07 [scrapy.core.engine] DEBUG: Crawled (200) <GET https://recipes.timesofindia.com/us/recipes/kuttu-ka-cheela/rs78947889.cms> (referer: https://recipes.timesofindia.com/us/recipes/veg-dinners/61361358?curpg=4)\n"
          ]
        },
        {
          "output_type": "stream",
          "name": "stdout",
          "text": [
            "RecipeName =  Garlic Lachcha Paratha\n",
            "Ingredients =  ['whole wheat flour', 'salt', 'garlic', 'green chilli', 'refined oil', 'carom seeds', 'refined oil', 'red chilli powder', 'salt', 'coriander leaves']\n",
            "Url: https://recipes.timesofindia.com/us/recipes/garlic-lachcha-paratha/rs75553137.cms\n",
            "RecipeName =  Mawa Green Peas Curry\n",
            "Ingredients =  ['corn flour', 'lemon juice', 'refined oil', 'coriander powder', 'green chilli', 'salt', 'ginger paste', 'milk', 'green peas', 'asafoetida', 'green chilli paste', 'garam masala powder', 'dry red chilli', 'garlic paste']\n",
            "Url: https://recipes.timesofindia.com/us/recipes/mawa-green-peas-curry/rs75048665.cms\n",
            "RecipeName =  Kuttu Ka Cheela\n",
            "Ingredients =  ['buckwheat  (kuttu)', 'green chilli', 'ghee', 'cumin seeds', 'water', 'red chilli powder', 'black pepper', 'sendha namak', 'cottage cheese', 'ginger', 'tamarind', 'ginger powder', 'sugar']\n",
            "Url: https://recipes.timesofindia.com/us/recipes/kuttu-ka-cheela/rs78947889.cms\n"
          ]
        },
        {
          "output_type": "stream",
          "name": "stderr",
          "text": [
            "2022-05-25 06:49:08 [scrapy.core.engine] DEBUG: Crawled (200) <GET https://recipes.timesofindia.com/us/recipes/oats-dhokla/rs79041828.cms> (referer: https://recipes.timesofindia.com/us/recipes/veg-dinners/61361358?curpg=4)\n",
            "2022-05-25 06:49:08 [scrapy.core.engine] DEBUG: Crawled (200) <GET https://recipes.timesofindia.com/us/recipes/vegetable-pancake/rs85392660.cms> (referer: https://recipes.timesofindia.com/us/recipes/veg-dinners/61361358)\n"
          ]
        },
        {
          "output_type": "stream",
          "name": "stdout",
          "text": [
            "RecipeName =  Oats Dhokla\n",
            "Ingredients =  ['oats', 'yoghurt (curd)', 'salt', 'baking powder', 'mustard seeds', 'gram flour (besan)', 'ginger', 'refined oil', 'green chilli']\n",
            "Url: https://recipes.timesofindia.com/us/recipes/oats-dhokla/rs79041828.cms\n"
          ]
        },
        {
          "output_type": "stream",
          "name": "stderr",
          "text": [
            "2022-05-25 06:49:08 [scrapy.core.engine] DEBUG: Crawled (200) <GET https://recipes.timesofindia.com/us/recipes/rajma-chaat/rs85757877.cms> (referer: https://recipes.timesofindia.com/us/recipes/veg-dinners/61361358)\n",
            "2022-05-25 06:49:08 [scrapy.core.engine] DEBUG: Crawled (200) <GET https://recipes.timesofindia.com/us/recipes/bhoger-khichuri/rs78895162.cms> (referer: https://recipes.timesofindia.com/us/recipes/veg-dinners/61361358?curpg=4)\n",
            "2022-05-25 06:49:08 [scrapy.core.engine] DEBUG: Crawled (200) <GET https://recipes.timesofindia.com/us/recipes/potato-cheela/rs86983097.cms> (referer: https://recipes.timesofindia.com/us/recipes/veg-dinners/61361358)\n"
          ]
        },
        {
          "output_type": "stream",
          "name": "stdout",
          "text": [
            "RecipeName =  Vegetable Pancake\n",
            "Ingredients =  ['semolina', 'water', 'capsicum (green pepper)', 'salt', 'coriander leaves', 'yoghurt (curd)', 'carrot', 'onion', 'black pepper', 'vegetable oil']\n",
            "Url: https://recipes.timesofindia.com/us/recipes/vegetable-pancake/rs85392660.cms\n",
            "RecipeName =  Rajma Chaat\n",
            "Ingredients =  ['red kidney beans', 'capsicum (green pepper)', 'corn', 'black pepper', 'lemon juice', 'coriander leaves', 'onion', 'carrot', 'salt', 'chaat masala', 'green chilli']\n",
            "Url: https://recipes.timesofindia.com/us/recipes/rajma-chaat/rs85757877.cms\n",
            "RecipeName =  Bhoger Khichuri\n",
            "Ingredients =  ['rice', 'cumin seeds', 'potato', 'salt', 'mustard oil', 'turmeric', 'ginger paste', 'moong dal', 'coconut', 'dry red chilli', 'ghee ', 'garam masala powder', 'tomato']\n",
            "Url: https://recipes.timesofindia.com/us/recipes/bhoger-khichuri/rs78895162.cms\n",
            "RecipeName =  Potato Cheela\n",
            "Ingredients =  ['potato', 'garlic paste', 'cumin powder', 'black pepper', 'corn flour', 'vegetable oil', 'onion', 'green chilli', 'coriander powder', 'gram flour (besan)', 'salt']\n",
            "Url: https://recipes.timesofindia.com/us/recipes/potato-cheela/rs86983097.cms\n"
          ]
        },
        {
          "output_type": "stream",
          "name": "stderr",
          "text": [
            "2022-05-25 06:49:09 [scrapy.core.engine] DEBUG: Crawled (200) <GET https://recipes.timesofindia.com/us/recipes/tadka-idli/rs86335458.cms> (referer: https://recipes.timesofindia.com/us/recipes/veg-dinners/61361358)\n",
            "2022-05-25 06:49:09 [scrapy.core.engine] DEBUG: Crawled (200) <GET https://recipes.timesofindia.com/us/recipes/sooji-pizza/rs87149823.cms> (referer: https://recipes.timesofindia.com/us/recipes/veg-dinners/61361358)\n",
            "2022-05-25 06:49:09 [scrapy.core.engine] DEBUG: Crawled (200) <GET https://recipes.timesofindia.com/us/recipes/broccoli-spinach-cheela/rs89088496.cms> (referer: https://recipes.timesofindia.com/us/recipes/veg-dinners/61361358)\n"
          ]
        },
        {
          "output_type": "stream",
          "name": "stdout",
          "text": [
            "RecipeName =  Tadka Idli\n",
            "Ingredients =  ['idli', 'red chilli', 'curry leaves', 'turmeric', 'salt', 'butter', 'mustard seeds', 'red chilli powder', 'coriander powder', 'black pepper']\n",
            "Url: https://recipes.timesofindia.com/us/recipes/tadka-idli/rs86335458.cms\n",
            "RecipeName =  Sooji Pizza\n",
            "Ingredients =  ['brown bread', 'onion', 'capsicum (green pepper)', 'salt', 'yoghurt (curd)', 'low fat mozzarella cheese', 'semolina', 'tomato', 'black olives', 'black pepper', 'fresh cream', 'vegetable oil']\n",
            "Url: https://recipes.timesofindia.com/us/recipes/sooji-pizza/rs87149823.cms\n",
            "RecipeName =  Broccoli Spinach Cheela\n",
            "Ingredients =  ['broccoli', 'gram flour (besan)', 'green chilli', 'black pepper', 'salt', 'spinach', 'garlic', 'cumin powder', 'garam masala powder']"
          ]
        },
        {
          "output_type": "stream",
          "name": "stderr",
          "text": [
            "2022-05-25 06:49:09 [scrapy.core.engine] DEBUG: Crawled (200) <GET https://recipes.timesofindia.com/us/recipes/vegetable-balls/rs89963662.cms> (referer: https://recipes.timesofindia.com/us/recipes/veg-dinners/61361358)\n",
            "2022-05-25 06:49:09 [scrapy.core.engine] DEBUG: Crawled (200) <GET https://recipes.timesofindia.com/us/recipes/sweet-potato-balls/rs89247925.cms> (referer: https://recipes.timesofindia.com/us/recipes/veg-dinners/61361358)\n"
          ]
        },
        {
          "output_type": "stream",
          "name": "stdout",
          "text": [
            "\n",
            "Url: https://recipes.timesofindia.com/us/recipes/broccoli-spinach-cheela/rs89088496.cms\n",
            "RecipeName =  Vegetable Balls\n",
            "Ingredients =  ['cauliflower', 'carrot', 'onion', 'ginger paste', 'red chilli powder', 'coriander powder', 'black pepper', 'corn flour', 'corn', 'cabbage', 'capsicum (green pepper)', 'garlic paste', 'green chilli', 'coriander leaves', 'garam masala powder', 'salt', 'vegetable oil']\n",
            "Url: https://recipes.timesofindia.com/us/recipes/vegetable-balls/rs89963662.cms\n"
          ]
        },
        {
          "output_type": "stream",
          "name": "stderr",
          "text": [
            "2022-05-25 06:49:10 [scrapy.core.engine] DEBUG: Crawled (200) <GET https://recipes.timesofindia.com/us/recipes/roasted-cauliflower-soup/rs89402040.cms> (referer: https://recipes.timesofindia.com/us/recipes/veg-dinners/61361358)\n",
            "2022-05-25 06:49:10 [scrapy.core.engine] DEBUG: Crawled (200) <GET https://recipes.timesofindia.com/us/recipes/banana-cheela/rs89586552.cms> (referer: https://recipes.timesofindia.com/us/recipes/veg-dinners/61361358)\n",
            "2022-05-25 06:49:10 [scrapy.core.engine] DEBUG: Crawled (200) <GET https://recipes.timesofindia.com/us/recipes/chicken-casserole/rs89263617.cms> (referer: https://recipes.timesofindia.com/us/recipes/veg-dinners/61361358)\n",
            "2022-05-25 06:49:10 [scrapy.downloadermiddlewares.redirect] DEBUG: Redirecting (301) to <GET https://recipes.timesofindia.com/us/recipes/hyderabadi-veg-biryani/rs57647608.cms> from <GET https://recipes.timesofindia.com/recipes/hyderabadi-veg-biryani/rs57647608.cms>\n"
          ]
        },
        {
          "output_type": "stream",
          "name": "stdout",
          "text": [
            "RecipeName =  Sweet Potato Balls\n",
            "Ingredients =  ['sweet potato', 'capsicum (green pepper)', 'refined flour', 'corn flour', 'salt', 'onion', 'green chilli', 'bread crumbs', 'vegetable oil', 'black pepper']\n",
            "Url: https://recipes.timesofindia.com/us/recipes/sweet-potato-balls/rs89247925.cms\n",
            "RecipeName =  Roasted Cauliflower Soup\n",
            "Ingredients =  ['cauliflower', 'extra virgin olive oil', 'black pepper', 'garlic', 'onion', 'low fat milk', 'salt', 'mixed herbs', 'ginger', 'coriander leaves', 'cauliflower']\n",
            "Url: https://recipes.timesofindia.com/us/recipes/roasted-cauliflower-soup/rs89402040.cms\n",
            "RecipeName =  Banana Cheela\n",
            "Ingredients =  ['banana', 'wheat flour', 'ghee', 'milk', 'honey']\n",
            "Url: https://recipes.timesofindia.com/us/recipes/banana-cheela/rs89586552.cms\n",
            "RecipeName =  Chicken Casserole\n",
            "Ingredients =  ['chicken boneless', 'refined flour', 'mushroom', 'cherry tomatoes', 'black pepper', 'oregano', 'garlic', 'butter', 'milk', 'spinach', 'salt', 'chilli flakes', 'cheese cubes', 'hakka noodles']\n",
            "Url: https://recipes.timesofindia.com/us/recipes/chicken-casserole/rs89263617.cms\n"
          ]
        },
        {
          "output_type": "stream",
          "name": "stderr",
          "text": [
            "2022-05-25 06:49:10 [scrapy.core.engine] DEBUG: Crawled (200) <GET https://recipes.timesofindia.com/us/recipes/mango-spinach-salad/rs82684036.cms> (referer: https://recipes.timesofindia.com/us/recipes/veg-dinners/61361358?curpg=2)\n",
            "2022-05-25 06:49:11 [scrapy.core.engine] DEBUG: Crawled (200) <GET https://recipes.timesofindia.com/us/recipes/honey-chilli-idli/rs90094836.cms> (referer: https://recipes.timesofindia.com/us/recipes/veg-dinners/61361358)\n",
            "2022-05-25 06:49:11 [scrapy.core.engine] DEBUG: Crawled (200) <GET https://recipes.timesofindia.com/us/recipes/banarasi-halwa/rs83114150.cms> (referer: https://recipes.timesofindia.com/us/recipes/veg-dinners/61361358?curpg=2)\n",
            "2022-05-25 06:49:11 [scrapy.core.engine] DEBUG: Crawled (200) <GET https://recipes.timesofindia.com/us/recipes/tomato-pulao/rs91635278.cms> (referer: https://recipes.timesofindia.com/us/recipes/veg-dinners/61361358)\n"
          ]
        },
        {
          "output_type": "stream",
          "name": "stdout",
          "text": [
            "RecipeName =  Mango spinach salad\n",
            "Ingredients =  ['spinach', 'roasted peanuts', 'juice of 1 lemon', 'salt', 'mango', 'microgreens', 'black dates', 'extra virgin olive oil']\n",
            "Url: https://recipes.timesofindia.com/us/recipes/mango-spinach-salad/rs82684036.cms\n"
          ]
        },
        {
          "output_type": "stream",
          "name": "stderr",
          "text": [
            "2022-05-25 06:49:11 [scrapy.core.engine] DEBUG: Crawled (200) <GET https://recipes.timesofindia.com/us/recipes/moringa-subzi-with-laccha-paratha/rs91083038.cms> (referer: https://recipes.timesofindia.com/us/recipes/veg-dinners/61361358)\n"
          ]
        },
        {
          "output_type": "stream",
          "name": "stdout",
          "text": [
            "RecipeName =  Honey Chilli Idli\n",
            "Ingredients =  ['idli', 'honey', 'refined flour', 'spring onions', 'dry red chili', 'tomato ketchup', 'salt', 'corn flour', 'soy sauce', 'onion', 'capsicum (green pepper)', 'garlic', 'black pepper', 'vegetable oil']\n",
            "Url: https://recipes.timesofindia.com/us/recipes/honey-chilli-idli/rs90094836.cms\n",
            "RecipeName =  Banarasi Halwa\n",
            "Ingredients =  ['pumpkin', 'sugar', 'ghee', 'khoya', 'milk', 'almonds', 'cashews', 'green cardamom']\n",
            "Url: https://recipes.timesofindia.com/us/recipes/banarasi-halwa/rs83114150.cms\n",
            "RecipeName =  Tomato Pulao\n",
            "Ingredients =  ['basmati rice', 'tomato', 'chana dal', 'raw peanuts', 'asafoetida', 'red chilli powder', 'ghee', 'salt', 'onion', 'mustard seeds', 'ginger', 'cashews', 'curry leaves', 'turmeric', 'refined oil', 'coriander leaves']\n",
            "Url: https://recipes.timesofindia.com/us/recipes/tomato-pulao/rs91635278.cms\n",
            "RecipeName =  Moringa Subzi with Laccha Paratha\n",
            "Ingredients =  ['wheat flour', 'drumstick leaves', 'cumin seeds', 'ginger', 'salt', 'ghee', 'mustard seeds', 'tomato', 'turmeric', 'milk']\n",
            "Url: https://recipes.timesofindia.com/us/recipes/moringa-subzi-with-laccha-paratha/rs91083038.cms\n"
          ]
        },
        {
          "output_type": "stream",
          "name": "stderr",
          "text": [
            "2022-05-25 06:49:11 [scrapy.core.engine] DEBUG: Crawled (200) <GET https://recipes.timesofindia.com/us/recipes/kolhapuri-egg-curry/rs79298426.cms> (referer: https://recipes.timesofindia.com/us/recipes/veg-dinners/61361358?curpg=3)\n",
            "2022-05-25 06:49:11 [scrapy.core.engine] DEBUG: Crawled (200) <GET https://recipes.timesofindia.com/us/recipes/celery-linguini/rs79279290.cms> (referer: https://recipes.timesofindia.com/us/recipes/veg-dinners/61361358?curpg=3)\n"
          ]
        },
        {
          "output_type": "stream",
          "name": "stdout",
          "text": [
            "RecipeName =  Kolhapuri Egg Curry\n",
            "Ingredients =  ['Egg', 'tomato', 'turmeric', 'salt', 'onion', 'garam masala powder', 'mustard oil', 'coconut']\n",
            "Url: https://recipes.timesofindia.com/us/recipes/kolhapuri-egg-curry/rs79298426.cms\n"
          ]
        },
        {
          "output_type": "stream",
          "name": "stderr",
          "text": [
            "2022-05-25 06:49:11 [scrapy.core.engine] DEBUG: Crawled (200) <GET https://recipes.timesofindia.com/us/recipes/keto-veg-manchurian/rs79301925.cms> (referer: https://recipes.timesofindia.com/us/recipes/veg-dinners/61361358?curpg=3)\n",
            "2022-05-25 06:49:12 [scrapy.core.engine] DEBUG: Crawled (200) <GET https://recipes.timesofindia.com/us/recipes/green-chana/rs79319516.cms> (referer: https://recipes.timesofindia.com/us/recipes/veg-dinners/61361358?curpg=3)\n"
          ]
        },
        {
          "output_type": "stream",
          "name": "stdout",
          "text": [
            "RecipeName =  Celery Linguini\n",
            "Ingredients =  ['pasta linguine', 'virgin olive oil', 'garlic', 'lemon juice', 'parmesan cheese', 'celery', 'salt', 'red chilli', 'lime zest', 'celery']\n",
            "Url: https://recipes.timesofindia.com/us/recipes/celery-linguini/rs79279290.cms\n",
            "RecipeName =  Keto Veg Manchurian\n",
            "Ingredients =  ['cauliflower', 'capsicum (green pepper)', 'onion', 'refined oil', 'salt', 'ginger paste', 'cabbage', 'paneer', 'flax seeds', 'green chilli', 'garlic paste', 'soy sauce', 'spring onions']\n",
            "Url: https://recipes.timesofindia.com/us/recipes/keto-veg-manchurian/rs79301925.cms\n"
          ]
        },
        {
          "output_type": "stream",
          "name": "stderr",
          "text": [
            "2022-05-25 06:49:12 [filelock] DEBUG: Attempting to acquire lock 139947662258512 on /root/.cache/python-tldextract/3.7.13.final__usr__7d8fdf__tldextract-3.3.0/publicsuffix.org-tlds/de84b5ca2167d4c83e38fb162f2e8738.tldextract.json.lock\n"
          ]
        },
        {
          "output_type": "stream",
          "name": "stdout",
          "text": [
            "RecipeName =  Green Chana\n",
            "Ingredients =  ['green chickpeas', 'tomato', 'green chillies', 'coriander powder', 'cumin seeds', 'ginger', 'sendha namak', 'turmeric', 'ghee', 'coriander leaves']\n",
            "Url: https://recipes.timesofindia.com/us/recipes/green-chana/rs79319516.cms\n"
          ]
        },
        {
          "output_type": "stream",
          "name": "stderr",
          "text": [
            "2022-05-25 06:49:12 [filelock] DEBUG: Lock 139947662258512 acquired on /root/.cache/python-tldextract/3.7.13.final__usr__7d8fdf__tldextract-3.3.0/publicsuffix.org-tlds/de84b5ca2167d4c83e38fb162f2e8738.tldextract.json.lock\n",
            "2022-05-25 06:49:12 [filelock] DEBUG: Attempting to release lock 139947662258512 on /root/.cache/python-tldextract/3.7.13.final__usr__7d8fdf__tldextract-3.3.0/publicsuffix.org-tlds/de84b5ca2167d4c83e38fb162f2e8738.tldextract.json.lock\n",
            "2022-05-25 06:49:12 [filelock] DEBUG: Lock 139947662258512 released on /root/.cache/python-tldextract/3.7.13.final__usr__7d8fdf__tldextract-3.3.0/publicsuffix.org-tlds/de84b5ca2167d4c83e38fb162f2e8738.tldextract.json.lock\n",
            "2022-05-25 06:49:12 [scrapy.core.engine] DEBUG: Crawled (410) <GET https://recipes.timesofindia.com/us/recipes/hyderabadi-veg-biryani/rs57647608.cms> (referer: https://recipes.timesofindia.com/us/recipes/veg-dinners/61361358)\n",
            "2022-05-25 06:49:12 [scrapy.core.engine] DEBUG: Crawled (200) <GET https://recipes.timesofindia.com/us/recipes/arhar-dal/rs71661408.cms> (referer: https://recipes.timesofindia.com/us/recipes/veg-dinners/61361358?curpg=3)\n",
            "2022-05-25 06:49:12 [scrapy.spidermiddlewares.httperror] INFO: Ignoring response <410 https://recipes.timesofindia.com/us/recipes/hyderabadi-veg-biryani/rs57647608.cms>: HTTP status code is not handled or not allowed\n",
            "2022-05-25 06:49:12 [scrapy.core.engine] DEBUG: Crawled (200) <GET https://recipes.timesofindia.com/us/recipes/kalagura-pulusu/rs66731982.cms> (referer: https://recipes.timesofindia.com/us/recipes/veg-dinners/61361358?curpg=3)\n"
          ]
        },
        {
          "output_type": "stream",
          "name": "stdout",
          "text": [
            "RecipeName =  Arhar Dal\n",
            "Ingredients =  ['toor daal', 'ginger', 'coriander leaves', 'mustard seeds', 'curry leaves', 'red chilli powder', 'salt', 'tomato', 'ghee', 'water', 'green chilli', 'cumin seeds', 'turmeric', 'coriander powder']\n",
            "Url: https://recipes.timesofindia.com/us/recipes/arhar-dal/rs71661408.cms\n",
            "RecipeName =  Kalagura Pulusu\n",
            "Ingredients =  ['eggplant/ brinjal', 'coconut', 'potato', 'curry leaves', 'onion', 'red chilli powder', 'water', 'mustard seeds', 'cumin', 'turmeric', 'drumstick', 'capsicum (green pepper)', 'carrot', 'tomato', 'green chilli', 'salt', 'coconut oil', 'garlic', 'fenugreek seeds']\n",
            "Url: https://recipes.timesofindia.com/us/recipes/kalagura-pulusu/rs66731982.cms\n"
          ]
        },
        {
          "output_type": "stream",
          "name": "stderr",
          "text": [
            "2022-05-25 06:49:13 [scrapy.core.engine] DEBUG: Crawled (200) <GET https://recipes.timesofindia.com/us/recipes/chole-bhatura/rs53314156.cms> (referer: https://recipes.timesofindia.com/us/recipes/veg-dinners/61361358?curpg=3)\n",
            "2022-05-25 06:49:13 [scrapy.core.engine] DEBUG: Crawled (200) <GET https://recipes.timesofindia.com/us/recipes/til-poli/rs73243345.cms> (referer: https://recipes.timesofindia.com/us/recipes/veg-dinners/61361358?curpg=3)\n",
            "2022-05-25 06:49:13 [scrapy.core.engine] DEBUG: Crawled (200) <GET https://recipes.timesofindia.com/us/recipes/elumichai-sadam/rs80217961.cms> (referer: https://recipes.timesofindia.com/us/recipes/veg-dinners/61361358?curpg=3)\n"
          ]
        },
        {
          "output_type": "stream",
          "name": "stdout",
          "text": [
            "RecipeName =  Chole Bhatura\n",
            "Ingredients =  ['chickpeas', 'onion', 'tomato puree', 'coriander powder', 'garlic', 'turmeric', 'chana masala powder', 'cumin', 'ginger', 'onion paste', 'salt', 'garam masala powder', 'red chilli powder', 'all purpose flour', 'yoghurt (curd)', 'refined oil', 'salt', 'wheat flour', 'coriander leaves']\n",
            "Url: https://recipes.timesofindia.com/us/recipes/chole-bhatura/rs53314156.cms\n",
            "RecipeName =  Til Poli\n",
            "Ingredients =  ['sesame seeds', 'gram flour (besan)', 'coconut powder', 'refined oil', 'salt', 'refined flour', 'powdered jaggery', 'green cardamom', 'wheat flour', 'ghee']\n",
            "Url: https://recipes.timesofindia.com/us/recipes/til-poli/rs73243345.cms\n",
            "RecipeName =  Elumichai Sadam\n",
            "Ingredients =  ['rice', 'mustard seeds', 'chana dal', 'cumin', 'raw peanuts', 'turmeric', 'lime zest', 'refined oil', 'urad dal', 'salt', 'curry leaves', 'green chillies', 'ginger']\n",
            "Url: https://recipes.timesofindia.com/us/recipes/elumichai-sadam/rs80217961.cms\n"
          ]
        },
        {
          "output_type": "stream",
          "name": "stderr",
          "text": [
            "2022-05-25 06:49:13 [scrapy.core.engine] DEBUG: Crawled (200) <GET https://recipes.timesofindia.com/us/recipes/sarson-da-saag/rs54670698.cms> (referer: https://recipes.timesofindia.com/us/recipes/veg-dinners/61361358?curpg=3)\n",
            "2022-05-25 06:49:13 [scrapy.core.engine] DEBUG: Crawled (200) <GET https://recipes.timesofindia.com/us/recipes/tomato-garlic-pasta/rs52759758.cms> (referer: https://recipes.timesofindia.com/us/recipes/veg-dinners/61361358?curpg=3)\n"
          ]
        },
        {
          "output_type": "stream",
          "name": "stdout",
          "text": [
            "RecipeName =  Sarson Da Saag\n",
            "Ingredients =  ['mustard leaves', 'bathua saag', 'green chilli', 'onion', 'turmeric', 'ghee', 'spinach', 'corn flour', 'garlic', 'ginger', 'water']\n",
            "Url: https://recipes.timesofindia.com/us/recipes/sarson-da-saag/rs54670698.cms\n",
            "RecipeName =  Tomato Garlic Pasta\n",
            "Ingredients =  ['wholewheat pasta', 'virgin olive oil', 'parmesan cheese', 'coriander leaves', 'black pepper', 'cherry tomatoes', 'garlic', 'basil', 'salt', 'water']\n",
            "Url: https://recipes.timesofindia.com/us/recipes/tomato-garlic-pasta/rs52759758.cms\n"
          ]
        },
        {
          "output_type": "stream",
          "name": "stderr",
          "text": [
            "2022-05-25 06:49:14 [scrapy.core.engine] DEBUG: Crawled (200) <GET https://recipes.timesofindia.com/us/recipes/masala-dosa/rs54289752.cms> (referer: https://recipes.timesofindia.com/us/recipes/veg-dinners/61361358?curpg=3)\n",
            "2022-05-25 06:49:14 [scrapy.core.engine] DEBUG: Crawled (200) <GET https://recipes.timesofindia.com/us/recipes/aloo-jeera-wrap/rs80784064.cms> (referer: https://recipes.timesofindia.com/us/recipes/veg-dinners/61361358?curpg=3)\n"
          ]
        },
        {
          "output_type": "stream",
          "name": "stdout",
          "text": [
            "RecipeName =  Masala Dosa\n",
            "Ingredients =  ['rice', 'urad dal', 'salt', 'refined oil', 'fenugreek seeds', 'potato', 'green chilli', 'mustard seeds', 'turmeric', 'salt', 'onion', 'refined oil', 'curry leaves', 'water']\n",
            "Url: https://recipes.timesofindia.com/us/recipes/masala-dosa/rs54289752.cms\n",
            "RecipeName =  Aloo Jeera Wrap\n",
            "Ingredients =  ['potato', 'chapatis', 'chaat masala', 'cumin seeds', 'coriander powder', 'salt', 'cheese cubes', 'onion', 'refined oil', 'red chilli powder', 'dry mango powder', 'turmeric']\n",
            "Url: https://recipes.timesofindia.com/us/recipes/aloo-jeera-wrap/rs80784064.cms\n"
          ]
        },
        {
          "output_type": "stream",
          "name": "stderr",
          "text": [
            "2022-05-25 06:49:14 [scrapy.core.engine] DEBUG: Crawled (200) <GET https://recipes.timesofindia.com/us/recipes/madhia/rs80292096.cms> (referer: https://recipes.timesofindia.com/us/recipes/veg-dinners/61361358?curpg=3)\n",
            "2022-05-25 06:49:14 [scrapy.core.engine] DEBUG: Crawled (200) <GET https://recipes.timesofindia.com/us/recipes/chicken-65/rs53683545.cms> (referer: https://recipes.timesofindia.com/us/recipes/veg-dinners/61361358?curpg=2)\n",
            "2022-05-25 06:49:14 [scrapy.core.engine] DEBUG: Crawled (200) <GET https://recipes.timesofindia.com/us/recipes/vegetable-biryani-by-pankaj-bhadouria/rs53098310.cms> (referer: https://recipes.timesofindia.com/us/recipes/veg-dinners/61361358?curpg=2)\n",
            "2022-05-25 06:49:14 [scrapy.core.engine] DEBUG: Crawled (200) <GET https://recipes.timesofindia.com/us/recipes/ragi-pizza/rs80767203.cms> (referer: https://recipes.timesofindia.com/us/recipes/veg-dinners/61361358?curpg=3)\n",
            "2022-05-25 06:49:15 [scrapy.core.engine] DEBUG: Crawled (200) <GET https://recipes.timesofindia.com/us/recipes/kaju-curry/rs74221955.cms> (referer: https://recipes.timesofindia.com/us/recipes/veg-dinners/61361358?curpg=3)\n",
            "2022-05-25 06:49:15 [scrapy.core.engine] DEBUG: Crawled (200) <GET https://recipes.timesofindia.com/us/recipes/butter-chickpea-curry/rs60770271.cms> (referer: https://recipes.timesofindia.com/us/recipes/veg-dinners/61361358?curpg=3)\n",
            "2022-05-25 06:49:15 [scrapy.core.engine] DEBUG: Crawled (200) <GET https://recipes.timesofindia.com/us/recipes/king-oyster-mushrooms/rs81225657.cms> (referer: https://recipes.timesofindia.com/us/recipes/veg-dinners/61361358?curpg=3)\n"
          ]
        },
        {
          "output_type": "stream",
          "name": "stdout",
          "text": [
            "RecipeName =  Madhia\n",
            "Ingredients =  ['urad dal vadi', 'water', 'dry mango powder', 'asafoetida', 'red chilli', 'rice', 'turmeric', 'cumin seeds', 'mustard oil']\n",
            "Url: https://recipes.timesofindia.com/us/recipes/madhia/rs80292096.cms\n",
            "RecipeName =  Chicken 65\n",
            "Ingredients =  ['chicken', 'coriander powder', 'yoghurt (curd)', 'green chilli', 'mustard oil', 'red chilli powder', 'turmeric', 'curry leaves', 'tomato ketchup', 'salt', 'spring onions']\n",
            "Url: https://recipes.timesofindia.com/us/recipes/chicken-65/rs53683545.cms\n",
            "RecipeName =  Vegetable Biryani\n",
            "Ingredients =  ['basmati rice', 'onion', 'clove', 'nutmeg', 'garlic paste', 'potato', 'bean green', 'salt', 'yoghurt (curd)', 'green cardamom', 'mint leaves', 'kewra', 'water', 'ghee', 'black cumin seeds', 'cinnamon', 'ginger paste', 'peas', 'cauliflower', 'carrot', 'black pepper', 'black cardamom', 'bay leaf', 'rose water', 'unsalted butter']\n",
            "Url: https://recipes.timesofindia.com/us/recipes/vegetable-biryani-by-pankaj-bhadouria/rs53098310.cms\n",
            "RecipeName =  Ragi Pizza\n",
            "Ingredients =  ['ragi flour', 'refined oil', 'carrot', 'cheese-cheddar', 'oregano', 'water', 'salt', 'black pepper', 'mushroom', 'basil', 'chilli flakes', 'baby onions']\n",
            "Url: https://recipes.timesofindia.com/us/recipes/ragi-pizza/rs80767203.cms\n",
            "RecipeName =  Kaju Curry\n",
            "Ingredients =  ['cashews-roasted', 'tomato', 'garlic', 'green chillies', 'salt', 'fresh cream', 'sugar', 'coriander leaves', 'cashews', 'ginger paste', 'bay leaf', 'red chilli powder', 'garam masala powder', 'butter', 'dried fenugreek leaves', 'water']\n",
            "Url: https://recipes.timesofindia.com/us/recipes/kaju-curry/rs74221955.cms\n",
            "RecipeName =  Butter Chickpea Curry\n",
            "Ingredients =  ['chickpeas', 'fresh cream', 'ginger', 'curry powder', 'garlic', 'potato', 'tomato puree', 'salt', 'cumin', 'garam masala powder', 'onion', 'canola oil/ rapeseed oil', 'coriander leaves']\n",
            "Url: https://recipes.timesofindia.com/us/recipes/butter-chickpea-curry/rs60770271.cms\n",
            "RecipeName =  King Oyster Mushrooms\n",
            "Ingredients =  ['oyster mushroom', 'orange juice', 'veg stock', 'garam masala powder', 'turmeric', 'powdered jaggery', 'white pepper powder', 'vegetable oil', 'soy sauce', 'lemon juice', 'cumin seeds', 'green chilli', 'ginger', 'spring onions', 'salt']\n",
            "Url: https://recipes.timesofindia.com/us/recipes/king-oyster-mushrooms/rs81225657.cms\n"
          ]
        },
        {
          "output_type": "stream",
          "name": "stderr",
          "text": [
            "2022-05-25 06:49:15 [scrapy.core.engine] DEBUG: Crawled (200) <GET https://recipes.timesofindia.com/us/recipes/satrangi-sabzi/rs81407036.cms> (referer: https://recipes.timesofindia.com/us/recipes/veg-dinners/61361358?curpg=3)\n",
            "2022-05-25 06:49:15 [scrapy.core.engine] DEBUG: Crawled (200) <GET https://recipes.timesofindia.com/us/recipes/thai-rolls-with-tofu/rs81306480.cms> (referer: https://recipes.timesofindia.com/us/recipes/veg-dinners/61361358?curpg=3)\n"
          ]
        },
        {
          "output_type": "stream",
          "name": "stdout",
          "text": [
            "RecipeName =  Satrangi Sabzi\n",
            "Ingredients =  ['capsicum (green pepper)', 'eggplant/ brinjal', 'peas', 'cauliflower', 'cumin seeds', 'garlic paste', 'coriander powder', 'turmeric', 'garam masala powder', 'yoghurt (curd)', 'water', 'carrot', 'tomato puree', 'potato', 'vegetable oil', 'asafoetida', 'ginger paste', 'dry mango powder', 'red chilli powder', 'fennel seeds', 'salt']\n",
            "Url: https://recipes.timesofindia.com/us/recipes/satrangi-sabzi/rs81407036.cms\n",
            "RecipeName =  Thai Rolls with Tofu\n",
            "Ingredients =  ['rice paper sheets', 'garlic', 'soy sauce', 'tofu', 'coriander leaves', 'salt', 'water', 'rice noodles', 'ginger', 'green chilli', 'peanut butter', 'white pepper powder', 'vegetable oil']\n",
            "Url: https://recipes.timesofindia.com/us/recipes/thai-rolls-with-tofu/rs81306480.cms\n"
          ]
        },
        {
          "output_type": "stream",
          "name": "stderr",
          "text": [
            "2022-05-25 06:49:16 [scrapy.core.engine] DEBUG: Crawled (200) <GET https://recipes.timesofindia.com/us/recipes/upma/rs53111410.cms> (referer: https://recipes.timesofindia.com/us/recipes/veg-dinners/61361358?curpg=2)\n",
            "2022-05-25 06:49:16 [scrapy.core.engine] DEBUG: Crawled (200) <GET https://recipes.timesofindia.com/us/recipes/aloo-paratha/rs53109843.cms> (referer: https://recipes.timesofindia.com/us/recipes/veg-dinners/61361358?curpg=2)\n",
            "2022-05-25 06:49:16 [scrapy.core.engine] DEBUG: Crawled (200) <GET https://recipes.timesofindia.com/us/recipes/khichdi/rs74297416.cms> (referer: https://recipes.timesofindia.com/us/recipes/veg-dinners/61361358?curpg=2)\n",
            "2022-05-25 06:49:16 [scrapy.core.engine] DEBUG: Crawled (200) <GET https://recipes.timesofindia.com/us/recipes/samosa/rs61050397.cms> (referer: https://recipes.timesofindia.com/us/recipes/veg-dinners/61361358?curpg=2)\n",
            "2022-05-25 06:49:16 [scrapy.core.engine] DEBUG: Crawled (200) <GET https://recipes.timesofindia.com/us/recipes/gulab-jamun/rs63799510.cms> (referer: https://recipes.timesofindia.com/us/recipes/veg-dinners/61361358?curpg=2)\n"
          ]
        },
        {
          "output_type": "stream",
          "name": "stdout",
          "text": [
            "RecipeName =  Upma\n",
            "Ingredients =  ['semolina', 'potato', 'tomato', 'mustard seeds', 'curry leaves', 'ginger', 'sunflower oil', 'urad dal', 'water', 'onion', 'capsicum ( green pepper)', 'salt', 'cumin seeds', 'green chilli', 'red chilli', 'chana dal', 'carrot', 'roasted peanuts']\n",
            "Url: https://recipes.timesofindia.com/us/recipes/upma/rs53111410.cms\n",
            "RecipeName =  Aloo Paratha\n",
            "Ingredients =  ['potato', 'coriander leaves', 'salt', 'ghee', 'red chilli powder', 'onion', 'garam masala powder', 'wheat flour', 'water']\n",
            "Url: https://recipes.timesofindia.com/us/recipes/aloo-paratha/rs53109843.cms\n",
            "RecipeName =  Khichdi\n",
            "Ingredients =  ['rice', 'toor daal', 'ghee', 'cinnamon', 'peas', 'potato', 'ginger', 'moong dal', 'cumin seeds', 'asafoetida', 'sugar', 'cauliflower', 'bay leaf', 'coriander leaves']\n",
            "Url: https://recipes.timesofindia.com/us/recipes/khichdi/rs74297416.cms\n",
            "RecipeName =  Samosa\n",
            "Ingredients =  ['all purpose flour', 'cumin seeds', 'ginger', 'raisins', 'potato', 'coriander powder', 'red chilli powder', 'kasoori methi leaves', 'carom seeds', 'water', 'refined oil', 'coriander seeds', 'green chilli', 'cashews', 'cumin powder', 'garam masala powder', 'salt', 'coriander leaves', 'ghee', 'raw peanuts']\n",
            "Url: https://recipes.timesofindia.com/us/recipes/samosa/rs61050397.cms\n",
            "RecipeName =  Gulab Jamun\n",
            "Ingredients =  ['paneer', 'canola oil/ rapeseed oil', 'boiling water', 'lemon', 'powdered sugar', 'green cardamom', 'khoya', 'ghee', 'saffron', 'all purpose flour', 'corn flour', 'baking powder']\n",
            "Url: https://recipes.timesofindia.com/us/recipes/gulab-jamun/rs63799510.cms\n"
          ]
        },
        {
          "output_type": "stream",
          "name": "stderr",
          "text": [
            "2022-05-25 06:49:17 [scrapy.core.engine] DEBUG: Crawled (200) <GET https://recipes.timesofindia.com/us/recipes/rasgulla/rs52743612.cms> (referer: https://recipes.timesofindia.com/us/recipes/veg-dinners/61361358?curpg=2)\n",
            "2022-05-25 06:49:17 [scrapy.core.engine] DEBUG: Crawled (200) <GET https://recipes.timesofindia.com/us/recipes/puran-poli/rs55045560.cms> (referer: https://recipes.timesofindia.com/us/recipes/veg-dinners/61361358?curpg=2)\n"
          ]
        },
        {
          "output_type": "stream",
          "name": "stdout",
          "text": [
            "RecipeName =  Rasgulla\n",
            "Ingredients =  ['milk', 'sugar', 'rose water', 'lime juice', 'water', 'all purpose flour', 'green cardamom']\n",
            "Url: https://recipes.timesofindia.com/us/recipes/rasgulla/rs52743612.cms\n",
            "RecipeName =  Puran Poli\n",
            "Ingredients =  ['chana dal', 'ghee', 'fennel seeds powder', 'all purpose flour', 'salt', 'refined oil', 'powdered jaggery', 'green cardamom', 'nutmeg powder', 'turmeric', 'water']\n",
            "Url: https://recipes.timesofindia.com/us/recipes/puran-poli/rs55045560.cms\n"
          ]
        },
        {
          "output_type": "stream",
          "name": "stderr",
          "text": [
            "2022-05-25 06:49:17 [scrapy.core.engine] DEBUG: Crawled (200) <GET https://recipes.timesofindia.com/us/recipes/palak-paneer/rs53093667.cms> (referer: https://recipes.timesofindia.com/us/recipes/veg-dinners/61361358?curpg=2)\n",
            "2022-05-25 06:49:18 [scrapy.core.engine] DEBUG: Crawled (200) <GET https://recipes.timesofindia.com/us/recipes/keema/rs53991547.cms> (referer: https://recipes.timesofindia.com/us/recipes/veg-dinners/61361358?curpg=2)\n"
          ]
        },
        {
          "output_type": "stream",
          "name": "stdout",
          "text": [
            "RecipeName =  Palak Paneer\n",
            "Ingredients =  ['paneer', 'ghee', 'red chilli', 'onion', 'ginger', 'salt', 'kasoori methi powder', 'fresh cream', 'spinach', 'cumin seeds', 'garlic', 'green chilli', 'coriander powder', 'cumin powder', 'butter', 'yellow chili powder']\n",
            "Url: https://recipes.timesofindia.com/us/recipes/palak-paneer/rs53093667.cms\n",
            "RecipeName =  Keema\n",
            "Ingredients =  ['mutton', 'peas', 'cinnamon stick', 'onion', 'ginger paste', 'red chilli powder', 'salt', 'water', 'ghee', 'clove', 'black pepper', 'tomato', 'garlic paste', 'garam masala powder', 'turmeric']\n",
            "Url: https://recipes.timesofindia.com/us/recipes/keema/rs53991547.cms\n"
          ]
        },
        {
          "output_type": "stream",
          "name": "stderr",
          "text": [
            "2022-05-25 06:49:18 [scrapy.core.engine] DEBUG: Crawled (200) <GET https://recipes.timesofindia.com/us/recipes/mediterranean-greek-salad/rs58895943.cms> (referer: https://recipes.timesofindia.com/us/recipes/veg-dinners/61361358?curpg=2)\n",
            "2022-05-25 06:49:18 [scrapy.core.engine] DEBUG: Crawled (200) <GET https://recipes.timesofindia.com/us/recipes/baked-feta-cheese-and-tomato-pasta/rs81444908.cms> (referer: https://recipes.timesofindia.com/us/recipes/veg-dinners/61361358?curpg=2)\n",
            "2022-05-25 06:49:18 [scrapy.core.engine] DEBUG: Crawled (200) <GET https://recipes.timesofindia.com/us/recipes/muradabadi-chicken-biryani/rs69038542.cms> (referer: https://recipes.timesofindia.com/us/recipes/veg-dinners/61361358?curpg=2)\n",
            "2022-05-25 06:49:18 [scrapy.core.engine] DEBUG: Crawled (200) <GET https://recipes.timesofindia.com/us/recipes/soya-chunks-masala/rs81506822.cms> (referer: https://recipes.timesofindia.com/us/recipes/veg-dinners/61361358?curpg=2)\n"
          ]
        },
        {
          "output_type": "stream",
          "name": "stdout",
          "text": [
            "RecipeName =  Mediterranean Greek Salad\n",
            "Ingredients =  ['red onion', 'roma tomato', 'cheese- feta', 'lettuce leaf', 'black salt', 'sun dried tomatoes', 'pitted black olives', 'cucumber', 'oregano', 'extra virgin olive oil']\n",
            "Url: https://recipes.timesofindia.com/us/recipes/mediterranean-greek-salad/rs58895943.cms\n",
            "RecipeName =  Baked Feta Cheese and Tomato Pasta\n",
            "Ingredients =  ['pasta penne', 'extra virgin olive oil', 'salt', 'oregano', 'cheese- feta', 'cherry tomatoes', 'garlic', 'black pepper', 'chilli flakes']\n",
            "Url: https://recipes.timesofindia.com/us/recipes/baked-feta-cheese-and-tomato-pasta/rs81444908.cms\n",
            "RecipeName =  Muradabadi Chicken Biryani\n",
            "Ingredients =  ['basmati rice', 'water', 'clove', 'onion', 'black cumin seeds', 'green cardamom', 'ginger', 'peppercorns', 'garlic', 'mace', 'ginger paste', 'garam masala powder', 'red chilli powder', 'coriander powder', 'refined oil', 'vinegar', 'chicken', 'bay leaf', 'green chillies', 'cumin seeds', 'coriander leaves', 'black cardamom', 'cinnamon stick', 'asafoetida', 'dagad (stone flower)', 'mint leaves', 'garlic paste', 'cumin powder', 'tomato', 'lemon juice', 'ghee']\n",
            "Url: https://recipes.timesofindia.com/us/recipes/muradabadi-chicken-biryani/rs69038542.cms\n"
          ]
        },
        {
          "output_type": "stream",
          "name": "stderr",
          "text": [
            "2022-05-25 06:49:18 [scrapy.core.engine] DEBUG: Crawled (200) <GET https://recipes.timesofindia.com/us/recipes/chapati-sandwich/rs81773072.cms> (referer: https://recipes.timesofindia.com/us/recipes/veg-dinners/61361358?curpg=2)\n",
            "2022-05-25 06:49:19 [scrapy.core.engine] DEBUG: Crawled (200) <GET https://recipes.timesofindia.com/us/recipes/kadhai-chicken/rs53523514.cms> (referer: https://recipes.timesofindia.com/us/recipes/veg-dinners/61361358?curpg=2)\n"
          ]
        },
        {
          "output_type": "stream",
          "name": "stdout",
          "text": [
            "RecipeName =  Soya Chunks Masala\n",
            "Ingredients =  ['soya chunks', 'onion', 'capsicum (green pepper)', 'garlic paste', 'coriander powder', 'dry mango powder', 'vegetable oil', 'salt', 'garam masala powder', 'yoghurt (curd)', 'tomato', 'ginger paste', 'turmeric', 'red chilli powder', 'kasoori methi powder', 'roasted peanuts', 'coriander leaves', 'cumin seeds']\n",
            "Url: https://recipes.timesofindia.com/us/recipes/soya-chunks-masala/rs81506822.cms\n",
            "RecipeName =  Chapati Sandwich\n",
            "Ingredients =  ['chapatis', 'corn', 'cabbage', 'dry mango powder', 'red chilli powder', 'mayonnaise', 'butter', 'onion', 'capsicum (green pepper)', 'vegetable oil', 'coriander powder', 'tomato ketchup', 'cheese cubes', 'salt']\n",
            "Url: https://recipes.timesofindia.com/us/recipes/chapati-sandwich/rs81773072.cms\n"
          ]
        },
        {
          "output_type": "stream",
          "name": "stderr",
          "text": [
            "2022-05-25 06:49:19 [scrapy.core.engine] DEBUG: Crawled (200) <GET https://recipes.timesofindia.com/us/recipes/chora-nu-shaak/rs81514476.cms> (referer: https://recipes.timesofindia.com/us/recipes/veg-dinners/61361358?curpg=2)\n"
          ]
        },
        {
          "output_type": "stream",
          "name": "stdout",
          "text": [
            "RecipeName =  Kadhai Chicken\n",
            "Ingredients =  ['chicken boneless', 'coriander seeds', 'fenugreek seeds', 'onion', 'ginger paste', 'red chilli powder', 'salt', 'garam masala powder', 'ginger', 'milk', 'refined oil', 'kasoori methi powder', 'red chilli', 'garlic', 'tomato', 'coriander powder', 'dry mango powder', 'coriander leaves', 'green chilli', 'Water', 'tomato puree', 'capsicum ( green pepper)']\n",
            "Url: https://recipes.timesofindia.com/us/recipes/kadhai-chicken/rs53523514.cms\n",
            "RecipeName =  Chora nu Shaak\n",
            "Ingredients =  ['black eyed beans', 'black mustard seeds', 'onion', 'ginger paste', 'tomato', 'bay leaf', 'cinnamon stick', 'asafoetida', 'cumin powder', 'salt', 'water', 'carom seeds', 'garlic paste', 'green chillies', 'vegetable oil', 'clove', 'curry leaves', 'coriander powder', 'red chilli powder', 'coriander leaves']\n",
            "Url: https://recipes.timesofindia.com/us/recipes/chora-nu-shaak/rs81514476.cms\n"
          ]
        },
        {
          "output_type": "stream",
          "name": "stderr",
          "text": [
            "2022-05-25 06:49:19 [scrapy.core.engine] DEBUG: Crawled (200) <GET https://recipes.timesofindia.com/us/recipes/vegetable-dalia/rs81526753.cms> (referer: https://recipes.timesofindia.com/us/recipes/veg-dinners/61361358?curpg=2)\n"
          ]
        },
        {
          "output_type": "stream",
          "name": "stdout",
          "text": [
            "RecipeName =  Vegetable Dalia\n",
            "Ingredients =  ['broken wheat (dalia)', 'cumin seeds', 'ginger paste', 'turmeric', 'peas', 'moong dal', 'ghee', 'asafoetida', 'salt', 'tomato', 'carrot', 'water']\n",
            "Url: https://recipes.timesofindia.com/us/recipes/vegetable-dalia/rs81526753.cms\n"
          ]
        },
        {
          "output_type": "stream",
          "name": "stderr",
          "text": [
            "2022-05-25 06:49:20 [scrapy.core.engine] DEBUG: Crawled (200) <GET https://recipes.timesofindia.com/us/recipes/asian-glazed-potatoes/rs81567370.cms> (referer: https://recipes.timesofindia.com/us/recipes/veg-dinners/61361358?curpg=2)\n",
            "2022-05-25 06:49:20 [scrapy.core.engine] DEBUG: Crawled (200) <GET https://recipes.timesofindia.com/us/recipes/vegetable-chapati-noodles/rs81601456.cms> (referer: https://recipes.timesofindia.com/us/recipes/veg-dinners/61361358?curpg=2)\n"
          ]
        },
        {
          "output_type": "stream",
          "name": "stdout",
          "text": [
            "RecipeName =  Asian Glazed Potatoes\n",
            "Ingredients =  ['potato', 'honey', 'spring onions', 'vegetable oil', 'garlic', 'soy sauce', 'water', 'sesame seeds', 'salt']\n",
            "Url: https://recipes.timesofindia.com/us/recipes/asian-glazed-potatoes/rs81567370.cms\n",
            "RecipeName =  Vegetable Chapati Noodles\n",
            "Ingredients =  ['chapatis', 'carrot', 'cabbage', 'garlic', 'tomato ketchup', 'vegetable oil', 'salt', 'onion', 'tomato', 'capsicum (green pepper)', 'soy sauce', 'black pepper', 'spring onions']\n",
            "Url: https://recipes.timesofindia.com/us/recipes/vegetable-chapati-noodles/rs81601456.cms\n"
          ]
        },
        {
          "output_type": "stream",
          "name": "stderr",
          "text": [
            "2022-05-25 06:49:20 [scrapy.core.engine] DEBUG: Crawled (200) <GET https://recipes.timesofindia.com/us/recipes/thai-noodles-tofu-bowl/rs82143704.cms> (referer: https://recipes.timesofindia.com/us/recipes/veg-dinners/61361358?curpg=2)\n",
            "2022-05-25 06:49:20 [scrapy.core.engine] DEBUG: Crawled (200) <GET https://recipes.timesofindia.com/us/recipes/steamed-bao-buns/rs82113916.cms> (referer: https://recipes.timesofindia.com/us/recipes/veg-dinners/61361358?curpg=2)\n"
          ]
        },
        {
          "output_type": "stream",
          "name": "stdout",
          "text": [
            "RecipeName =  Thai Noodles Tofu Bowl\n",
            "Ingredients =  ['coconut milk', 'fresh noodles', 'mushroom', 'onion', 'vegetable oil', 'thai green curry paste', 'baby corn', 'tofu', 'salt', 'spinach']\n",
            "Url: https://recipes.timesofindia.com/us/recipes/thai-noodles-tofu-bowl/rs82143704.cms\n",
            "RecipeName =  Steamed Bao Buns\n",
            "Ingredients =  ['all purpose flour', 'dry yeast', 'sunflower oil', 'baking powder', 'caster sugar', 'lukewarm milk', 'rice vinegar']\n",
            "Url: https://recipes.timesofindia.com/us/recipes/steamed-bao-buns/rs82113916.cms\n"
          ]
        },
        {
          "output_type": "stream",
          "name": "stderr",
          "text": [
            "2022-05-25 06:49:21 [scrapy.core.engine] DEBUG: Crawled (200) <GET https://recipes.timesofindia.com/us/recipes/stuffed-jowar-cheela/rs82627266.cms> (referer: https://recipes.timesofindia.com/us/recipes/veg-dinners/61361358?curpg=2)\n"
          ]
        },
        {
          "output_type": "stream",
          "name": "stdout",
          "text": [
            "RecipeName =  Stuffed Jowar Cheela\n",
            "Ingredients =  ['jowar flour', 'onion', 'carrot', 'salt', 'red chilli powder', 'pav bhaji masala', 'cumin seeds', 'water', 'capsicum (green pepper)', 'paneer', 'coriander powder', 'dry mango powder', 'vegetable oil', 'mustard seeds']\n",
            "Url: https://recipes.timesofindia.com/us/recipes/stuffed-jowar-cheela/rs82627266.cms\n"
          ]
        },
        {
          "output_type": "stream",
          "name": "stderr",
          "text": [
            "2022-05-25 06:49:25 [scrapy.core.engine] DEBUG: Crawled (200) <GET https://recipes.timesofindia.com/us/recipes/vegetable-pasta-augratin/rs80237981.cms> (referer: https://recipes.timesofindia.com/us/recipes/veg-dinners/61361358?curpg=3)\n"
          ]
        },
        {
          "output_type": "stream",
          "name": "stdout",
          "text": [
            "RecipeName =  Vegetable Pasta Augratin\n",
            "Ingredients =  ['pasta conchiglie', 'red bell pepper', 'capsicum (green pepper)', 'baby corn', 'butter', 'milk', 'black pepper', 'potato', 'yellow bell pepper', 'onion', 'onion rings', 'all purpose flour', 'salt', 'cheese cubes']\n",
            "Url: https://recipes.timesofindia.com/us/recipes/vegetable-pasta-augratin/rs80237981.cms\n"
          ]
        },
        {
          "output_type": "stream",
          "name": "stderr",
          "text": [
            "2022-05-25 06:49:30 [scrapy.core.engine] DEBUG: Crawled (200) <GET https://recipes.timesofindia.com/us/recipes/gobhi-paratha/rs53335308.cms> (referer: https://recipes.timesofindia.com/us/recipes/veg-dinners/61361358?curpg=2)\n"
          ]
        },
        {
          "output_type": "stream",
          "name": "stdout",
          "text": [
            "RecipeName =  Gobhi Paratha\n",
            "Ingredients =  ['wheat flour', 'cumin', 'ginger paste', 'onion', 'spice black pepper', 'ghee', 'salt', 'cumin seeds', 'garam masala powder', 'coriander leaves', 'cauliflower', 'turmeric', 'refined oil', 'water', 'all purpose flour']\n",
            "Url: https://recipes.timesofindia.com/us/recipes/gobhi-paratha/rs53335308.cms\n"
          ]
        },
        {
          "output_type": "stream",
          "name": "stderr",
          "text": [
            "2022-05-25 06:49:32 [scrapy.core.engine] DEBUG: Crawled (200) <GET https://recipes.timesofindia.com/us/recipes/moong-sprout-kebab/rs82365450.cms> (referer: https://recipes.timesofindia.com/us/recipes/veg-dinners/61361358?curpg=2)\n",
            "2022-05-25 06:49:33 [scrapy.core.engine] INFO: Closing spider (finished)\n",
            "2022-05-25 06:49:33 [scrapy.statscollectors] INFO: Dumping Scrapy stats:\n",
            "{'downloader/request_bytes': 40385,\n",
            " 'downloader/request_count': 114,\n",
            " 'downloader/request_method_count/GET': 114,\n",
            " 'downloader/response_bytes': 3692633,\n",
            " 'downloader/response_count': 114,\n",
            " 'downloader/response_status_count/200': 108,\n",
            " 'downloader/response_status_count/301': 5,\n",
            " 'downloader/response_status_count/410': 1,\n",
            " 'dupefilter/filtered': 144,\n",
            " 'elapsed_time_seconds': 37.349511,\n",
            " 'finish_reason': 'finished',\n",
            " 'finish_time': datetime.datetime(2022, 5, 25, 6, 49, 33, 147831),\n",
            " 'httpcompression/response_bytes': 18907126,\n",
            " 'httpcompression/response_count': 108,\n",
            " 'httperror/response_ignored_count': 1,\n",
            " 'httperror/response_ignored_status_count/410': 1,\n",
            " 'log_count/DEBUG': 119,\n",
            " 'log_count/ERROR': 2,\n",
            " 'log_count/INFO': 11,\n",
            " 'memusage/max': 131366912,\n",
            " 'memusage/startup': 131366912,\n",
            " 'request_depth_max': 1,\n",
            " 'response_received_count': 109,\n",
            " 'scheduler/dequeued': 114,\n",
            " 'scheduler/dequeued/memory': 114,\n",
            " 'scheduler/enqueued': 114,\n",
            " 'scheduler/enqueued/memory': 114,\n",
            " 'spider_exceptions/TypeError': 2,\n",
            " 'start_time': datetime.datetime(2022, 5, 25, 6, 48, 55, 798320)}\n",
            "2022-05-25 06:49:33 [scrapy.core.engine] INFO: Spider closed (finished)\n"
          ]
        },
        {
          "output_type": "stream",
          "name": "stdout",
          "text": [
            "RecipeName =  Moong Sprout Kebab\n",
            "Ingredients =  ['boiled sprouted moong', 'green chilli', 'chaat masala powder', 'cumin powder', 'black salt', 'onion', 'tomato', 'gram flour (besan)', 'coriander leaves', 'vegetable oil']\n",
            "Url: https://recipes.timesofindia.com/us/recipes/moong-sprout-kebab/rs82365450.cms\n"
          ]
        }
      ]
    },
    {
      "cell_type": "code",
      "source": [
        "print(rawData[:5])"
      ],
      "metadata": {
        "colab": {
          "base_uri": "https://localhost:8080/"
        },
        "id": "tLeLMwE-uDGD",
        "outputId": "44c57bda-44e3-45fe-d64b-ba343f95c90f"
      },
      "execution_count": null,
      "outputs": [
        {
          "output_type": "stream",
          "name": "stdout",
          "text": [
            "[['https://recipes.timesofindia.com/us/recipes/bibimbap/rs82973328.cms', 'Bibimbap', ['cucumber english', 'spinach', 'virgin olive oil', 'garlic', 'egg', 'salt', 'pepper sauce', 'soy sauce', 'carrot', 'chilli flakes', 'rice']], ['https://recipes.timesofindia.com/us/recipes/veg-fried-rice/rs83107439.cms', 'Veg Fried Rice', ['rice', 'soy sauce', 'garlic', 'carrot', 'cabbage', 'green onion', 'black pepper', 'sunflower oil', 'vinegar', 'onion', 'red bell pepper', 'green beans', 'salt']], ['https://recipes.timesofindia.com/us/recipes/cherry-tomato-couscous-salad/rs83027806.cms', 'Cherry Tomato Couscous Salad', ['couscous', 'chickpeas', 'cucumber', 'basil', 'lime juice', 'green olives', 'extra virgin olive oil', 'oregano', 'cherry tomatoes', 'red bell pepper', 'parsley', 'pumpkin seeds', 'garlic', 'white vinegar', 'salt']], ['https://recipes.timesofindia.com/us/recipes/kale-and-strawberry-salad/rs82683113.cms', 'Kale and strawberry salad', ['kale', 'lemon juice', 'salt', 'maple syrup', 'strawberry', 'virgin olive oil', 'sesame seeds']], ['https://recipes.timesofindia.com/us/recipes/mint-raita/rs83005406.cms', 'Mint Raita', ['yoghurt (curd)', 'green chilli', 'cucumber', 'red chilli powder', 'cumin powder', 'mint leaves', 'onion', 'salt', 'sugar']]]\n"
          ]
        }
      ]
    },
    {
      "cell_type": "code",
      "source": [
        "print(len(rawData))"
      ],
      "metadata": {
        "colab": {
          "base_uri": "https://localhost:8080/"
        },
        "id": "z7a7oNKXvM9M",
        "outputId": "095d094b-5427-499c-9244-72e77b2cb272"
      },
      "execution_count": null,
      "outputs": [
        {
          "output_type": "stream",
          "name": "stdout",
          "text": [
            "102\n"
          ]
        }
      ]
    },
    {
      "cell_type": "code",
      "source": [
        "import csv\n",
        "import pandas as pd\n",
        "fields = [\"url\", \"name\", \"ingredient\"]\n",
        "#raw_df = pd.DataFrame(rawData, columns = fields)\n",
        "#for rawData.csv data is in list rawData\n",
        "formatRawData = list()\n",
        "for element in rawData:\n",
        "  link, recipeName = element[0], element[1]\n",
        "  for item in element[2]: #iterate over a list of ingredients\n",
        "    formatRawData.append([link,recipeName,item])\n",
        "print(formatRawData[:5])\n",
        "raw_df = pd.DataFrame(formatRawData, columns = fields)\n",
        "\n",
        "with open('rawData.csv', 'w') as f:\n",
        "      \n",
        "    # using csv.writer method from CSV package\n",
        "    write = csv.writer(f)\n",
        "      \n",
        "    write.writerow(fields)\n",
        "    write.writerows(formatRawData)"
      ],
      "metadata": {
        "id": "uQiTmgXBxkFq",
        "colab": {
          "base_uri": "https://localhost:8080/"
        },
        "outputId": "cc301c31-ed4a-4f1a-affb-aa81224fee37"
      },
      "execution_count": null,
      "outputs": [
        {
          "output_type": "stream",
          "name": "stderr",
          "text": [
            "2022-05-25 06:49:33 [numexpr.utils] INFO: NumExpr defaulting to 2 threads.\n"
          ]
        },
        {
          "output_type": "stream",
          "name": "stdout",
          "text": [
            "[['https://recipes.timesofindia.com/us/recipes/bibimbap/rs82973328.cms', 'Bibimbap', 'cucumber english'], ['https://recipes.timesofindia.com/us/recipes/bibimbap/rs82973328.cms', 'Bibimbap', 'spinach'], ['https://recipes.timesofindia.com/us/recipes/bibimbap/rs82973328.cms', 'Bibimbap', 'virgin olive oil'], ['https://recipes.timesofindia.com/us/recipes/bibimbap/rs82973328.cms', 'Bibimbap', 'garlic'], ['https://recipes.timesofindia.com/us/recipes/bibimbap/rs82973328.cms', 'Bibimbap', 'egg']]\n"
          ]
        }
      ]
    },
    {
      "cell_type": "code",
      "source": [
        "import pandas as pd\n",
        "from collections import Counter\n",
        "\n",
        "most_common_ing = Counter([item for item in raw_df['ingredient'] ])\n",
        "print(most_common_ing.most_common(10))"
      ],
      "metadata": {
        "colab": {
          "base_uri": "https://localhost:8080/"
        },
        "id": "EsIWOg8gryHI",
        "outputId": "53917c05-be02-47a7-dc16-d161ed127080"
      },
      "execution_count": null,
      "outputs": [
        {
          "output_type": "stream",
          "name": "stdout",
          "text": [
            "[('salt', 89), ('onion', 48), ('turmeric', 36), ('garlic', 35), ('water', 34), ('red chilli powder', 32), ('coriander leaves', 29), ('green chilli', 28), ('black pepper', 27), ('vegetable oil', 26)]\n"
          ]
        }
      ]
    },
    {
      "cell_type": "markdown",
      "source": [
        "# For Cleaning the Data\n",
        "## Steps\n",
        "\n",
        "\n",
        "* Remove extra white spaces\n",
        "* Lower case\n",
        "* Remove bracketed items () \n",
        "* Other special characters and numbers (/!@)\n",
        "\n",
        "\n"
      ],
      "metadata": {
        "id": "AeXnOZKeyCRG"
      }
    },
    {
      "cell_type": "code",
      "source": [
        "import re\n",
        "import string\n",
        "punctuations = string.punctuation\n",
        "\n",
        "def clean(text):\n",
        " txt = str(text).strip().lower()\n",
        " if '(' and ')' in txt:\n",
        "   start_ind = txt.index('(')\n",
        "   end_ind = txt.index(')')\n",
        "   txt = txt[:start_ind] + txt[end_ind:]\n",
        " txt = \"\".join(c for c in txt if c not in punctuations) \n",
        " words = txt.split() \n",
        " words = [i for i in words if i.isalpha()] \n",
        " pattern = '[0-9]'\n",
        " words = [re.sub(pattern, '', i) for i in words]\n",
        " words = [re.sub(r'[^a-zA-Z]+$', '', i) for i in words] \n",
        " \n",
        " clean_txt = \" \".join(words) \n",
        " return clean_txt"
      ],
      "metadata": {
        "id": "97I9wmmT1rCI"
      },
      "execution_count": null,
      "outputs": []
    },
    {
      "cell_type": "code",
      "source": [
        "import csv\n",
        "import pandas as pd\n",
        "\n",
        "formatCleanData = []\n",
        "fields = [\"url\", \"name\", \"ingredient\"]\n",
        "for element in formatRawData:\n",
        "  url,name,ingredient = element[0],element[1],element[2]\n",
        "  ingredient = clean(ingredient)\n",
        "  formatCleanData.append([url,name,ingredient])\n",
        "\n",
        "with open('cleanData.csv', 'w') as f:\n",
        "      \n",
        "    # using csv.writer method from CSV package\n",
        "    write = csv.writer(f)\n",
        "      \n",
        "    write.writerow(fields)\n",
        "    write.writerows(formatCleanData)\n",
        "\n",
        "\n",
        "clean_df = pd.DataFrame(formatCleanData, columns = fields)"
      ],
      "metadata": {
        "id": "DiLSJ3hh8jYP"
      },
      "execution_count": null,
      "outputs": []
    },
    {
      "cell_type": "code",
      "source": [
        "import pandas as pd\n",
        "from collections import Counter\n",
        "\n",
        "most_common_ing = Counter([item for item in clean_df['ingredient'] ])\n",
        "print(most_common_ing.most_common(10))"
      ],
      "metadata": {
        "colab": {
          "base_uri": "https://localhost:8080/"
        },
        "id": "zSbpS6gX-Pg_",
        "outputId": "1e93ea36-e492-4709-bfdf-5cbb543b6079"
      },
      "execution_count": null,
      "outputs": [
        {
          "output_type": "stream",
          "name": "stdout",
          "text": [
            "[('salt', 89), ('onion', 49), ('turmeric', 36), ('garlic', 35), ('water', 35), ('red chilli powder', 32), ('coriander leaves', 29), ('green chilli', 28), ('black pepper', 27), ('vegetable oil', 26)]\n"
          ]
        }
      ]
    },
    {
      "cell_type": "markdown",
      "source": [
        "From above list of common ingredients we can see that there is a slight change in the count of most common ingredients but overall the 10 most common ingredients remain the same"
      ],
      "metadata": {
        "id": "lpQTHslM_Cat"
      }
    },
    {
      "cell_type": "markdown",
      "source": [
        "# For final Results\n",
        "### fields['word','count','proportion']"
      ],
      "metadata": {
        "id": "Eiv6GYUH-zTo"
      }
    },
    {
      "cell_type": "code",
      "source": [
        "import csv\n",
        "import pandas as pd\n",
        "\n",
        "formatResultsData = []\n",
        "fields = ['word','count','proportion']\n",
        "total_count = len(formatCleanData)\n",
        "most_common_ingredients = most_common_ing.most_common(10)\n",
        "for ingredient,ing_count in most_common_ingredients:\n",
        "  proportion = ing_count / total_count\n",
        "  formatResultsData.append([ingredient,ing_count,proportion])\n",
        "\n",
        "with open('resultsData.csv', 'w') as f:\n",
        "      \n",
        "    # using csv.writer method from CSV package\n",
        "    write = csv.writer(f)\n",
        "      \n",
        "    write.writerow(fields)\n",
        "    write.writerows(formatResultsData)\n",
        "\n",
        "results_df = pd.DataFrame(formatResultsData, columns = fields)"
      ],
      "metadata": {
        "id": "wfKwyhsx-ZUW"
      },
      "execution_count": null,
      "outputs": []
    },
    {
      "cell_type": "code",
      "source": [
        "print(results_df)"
      ],
      "metadata": {
        "id": "2eRlton8Na1f",
        "colab": {
          "base_uri": "https://localhost:8080/"
        },
        "outputId": "b9fd115a-6c81-4694-c3b0-5fe5d63b5d4e"
      },
      "execution_count": null,
      "outputs": [
        {
          "output_type": "stream",
          "name": "stdout",
          "text": [
            "                word  count  proportion\n",
            "0               salt     89    0.070079\n",
            "1              onion     49    0.038583\n",
            "2           turmeric     36    0.028346\n",
            "3             garlic     35    0.027559\n",
            "4              water     35    0.027559\n",
            "5  red chilli powder     32    0.025197\n",
            "6   coriander leaves     29    0.022835\n",
            "7       green chilli     28    0.022047\n",
            "8       black pepper     27    0.021260\n",
            "9      vegetable oil     26    0.020472\n"
          ]
        }
      ]
    },
    {
      "cell_type": "code",
      "source": [
        "import sys\n",
        "text_tokens = {}\n",
        "def make_voc(s):\n",
        "    for line in s.split('\\n'):\n",
        "        line_tokens = line.split(' ')\n",
        "        for t in line_tokens:\n",
        "            if t in text_tokens:\n",
        "                text_tokens[t] += 1\n",
        "            else:\n",
        "                text_tokens[t] = 1\n",
        "    for i in sorted (text_tokens.keys()):\n",
        "        print(i,\" \",text_tokens[i])"
      ],
      "metadata": {
        "id": "EcuC6hVBZiPB"
      },
      "execution_count": null,
      "outputs": []
    },
    {
      "cell_type": "code",
      "source": [
        "make_voc(\"the dog chased the cat \\n a student left the room\")"
      ],
      "metadata": {
        "id": "-XpLIeMBZiIG",
        "colab": {
          "base_uri": "https://localhost:8080/"
        },
        "outputId": "c4adc862-0404-4b62-d022-d8dd6af67827"
      },
      "execution_count": null,
      "outputs": [
        {
          "output_type": "stream",
          "name": "stdout",
          "text": [
            "   2\n",
            "a   1\n",
            "cat   1\n",
            "chased   1\n",
            "dog   1\n",
            "left   1\n",
            "room   1\n",
            "student   1\n",
            "the   3\n"
          ]
        }
      ]
    },
    {
      "cell_type": "code",
      "source": [
        "import sys\n",
        "import re\n",
        "import string\n",
        "\n",
        "output = \"\"\n",
        "common_acronyms = [\"Ph.D.\", \"M.S.\", \"U.S.\", \"U.S.A.\", \"U.K.\", \"Mr.\", \"Mrs.\", \"Dr.\", \"St.\", \"A.D.\", \"B.C.\"]\n",
        "for line in sys.stdin.readline():\n",
        "  s = line.strip()\n",
        "  s = re.sub('([,!?;:()])', r' \\1 ', s)\n",
        "  for word in line.split(' '):\n",
        "    if not (word in common_acronyms or len(re.findall('[0-9]+\\.[0-9]+',word))>0):\n",
        "      word.replace('.',' . ')\n",
        "      #' . '.join()\n",
        "\n",
        "    output = output+ word"
      ],
      "metadata": {
        "id": "FYsl_vI9PP4O"
      },
      "execution_count": null,
      "outputs": []
    }
  ]
}